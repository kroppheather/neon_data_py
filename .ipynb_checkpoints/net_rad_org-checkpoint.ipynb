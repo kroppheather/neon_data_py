{
 "cells": [
  {
   "cell_type": "code",
   "execution_count": 4,
   "metadata": {},
   "outputs": [],
   "source": [
    "import pandas as pd\n",
    "import numpy as np\n",
    "import datetime"
   ]
  },
  {
   "cell_type": "code",
   "execution_count": 5,
   "metadata": {},
   "outputs": [],
   "source": [
    "rad_df = pd.read_csv(r\"E:\\NEON\\net_rad\\NEON.D02.POSE.DP1.00023.001.2016-03.basic.20170919T035542Z\\NEON.D02.POSE.DP1.00023.001.200.000.030.SLRNR_30min.2016-03.basic.20170919T035542Z.csv\", \n",
    "                    header=0)"
   ]
  },
  {
   "cell_type": "code",
   "execution_count": 6,
   "metadata": {},
   "outputs": [
    {
     "name": "stdout",
     "output_type": "stream",
     "text": [
      "          startDateTime           endDateTime  inSWMean  inSWMinimum  \\\n",
      "0  2016-03-04T18:00:00Z  2016-03-04T18:30:00Z     54.22        50.51   \n",
      "1  2016-03-04T18:30:00Z  2016-03-04T19:00:00Z       NaN          NaN   \n",
      "2  2016-03-04T19:00:00Z  2016-03-04T19:30:00Z       NaN          NaN   \n",
      "3  2016-03-04T19:30:00Z  2016-03-04T20:00:00Z       NaN          NaN   \n",
      "4  2016-03-04T20:00:00Z  2016-03-04T20:30:00Z       NaN          NaN   \n",
      "\n",
      "   inSWMaximum  inSWVariance  inSWNumPts  inSWExpUncert  inSWStdErMean  \\\n",
      "0        58.25          6.23       273.0           1.15           0.15   \n",
      "1          NaN           NaN         NaN            NaN            NaN   \n",
      "2          NaN           NaN         NaN            NaN            NaN   \n",
      "3          NaN           NaN         NaN            NaN            NaN   \n",
      "4          NaN           NaN         NaN            NaN            NaN   \n",
      "\n",
      "   inSWFinalQF  ...  inLWStdErMean  inLWFinalQF  outLWMean  outLWMinimum  \\\n",
      "0          1.0  ...            0.0          1.0      332.4         331.7   \n",
      "1          1.0  ...            NaN          1.0        NaN           NaN   \n",
      "2          1.0  ...            NaN          1.0        NaN           NaN   \n",
      "3          1.0  ...            NaN          1.0        NaN           NaN   \n",
      "4          1.0  ...            NaN          1.0        NaN           NaN   \n",
      "\n",
      "   outLWMaximum  outLWVariance  outLWNumPts  outLWExpUncert  outLWStdErMean  \\\n",
      "0         333.2            0.2          NaN             5.8             0.0   \n",
      "1           NaN            NaN          NaN             NaN             NaN   \n",
      "2           NaN            NaN          NaN             NaN             NaN   \n",
      "3           NaN            NaN          NaN             NaN             NaN   \n",
      "4           NaN            NaN          NaN             NaN             NaN   \n",
      "\n",
      "   outLWFinalQF  \n",
      "0           1.0  \n",
      "1           1.0  \n",
      "2           1.0  \n",
      "3           1.0  \n",
      "4           1.0  \n",
      "\n",
      "[5 rows x 34 columns]\n"
     ]
    }
   ],
   "source": [
    "print(rad_df.head(5))"
   ]
  },
  {
   "cell_type": "code",
   "execution_count": 7,
   "metadata": {},
   "outputs": [
    {
     "data": {
      "text/plain": [
       "['startDateTime',\n",
       " 'endDateTime',\n",
       " 'inSWMean',\n",
       " 'inSWMinimum',\n",
       " 'inSWMaximum',\n",
       " 'inSWVariance',\n",
       " 'inSWNumPts',\n",
       " 'inSWExpUncert',\n",
       " 'inSWStdErMean',\n",
       " 'inSWFinalQF',\n",
       " 'outSWMean',\n",
       " 'outSWMinimum',\n",
       " 'outSWMaximum',\n",
       " 'outSWVariance',\n",
       " 'outSWNumPts',\n",
       " 'outSWExpUncert',\n",
       " 'outSWStdErMean',\n",
       " 'outSWFinalQF',\n",
       " 'inLWMean',\n",
       " 'inLWMinimum',\n",
       " 'inLWMaximum',\n",
       " 'inLWVariance',\n",
       " 'inLWNumPts',\n",
       " 'inLWExpUncert',\n",
       " 'inLWStdErMean',\n",
       " 'inLWFinalQF',\n",
       " 'outLWMean',\n",
       " 'outLWMinimum',\n",
       " 'outLWMaximum',\n",
       " 'outLWVariance',\n",
       " 'outLWNumPts',\n",
       " 'outLWExpUncert',\n",
       " 'outLWStdErMean',\n",
       " 'outLWFinalQF']"
      ]
     },
     "execution_count": 7,
     "metadata": {},
     "output_type": "execute_result"
    }
   ],
   "source": [
    "list(rad_df.columns) "
   ]
  },
  {
   "cell_type": "code",
   "execution_count": 15,
   "metadata": {},
   "outputs": [
    {
     "data": {
      "text/plain": [
       "604"
      ]
     },
     "execution_count": 15,
     "metadata": {},
     "output_type": "execute_result"
    }
   ],
   "source": [
    "total_rows = rad_df.shape[0]\n",
    "total_rows"
   ]
  },
  {
   "cell_type": "code",
   "execution_count": 20,
   "metadata": {},
   "outputs": [],
   "source": [
    "startT = pd.to_datetime(rad_df.startDateTime) \n",
    "endT = pd.to_datetime(rad_df.endDateTime)"
   ]
  },
  {
   "cell_type": "code",
   "execution_count": null,
   "metadata": {},
   "outputs": [],
   "source": [
    "#first need to pull out lat long to convert to proper time zone"
   ]
  },
  {
   "cell_type": "code",
   "execution_count": 31,
   "metadata": {},
   "outputs": [],
   "source": [
    "readme =  open(r\"E:\\NEON\\net_rad\\NEON.D02.POSE.DP1.00023.001.2016-03.basic.20170919T035542Z\\NEON.DP1.00023.001_readme.txt\")\n",
    "coor = readme.readlines()[31]\n",
    "readme.close()"
   ]
  },
  {
   "cell_type": "code",
   "execution_count": 32,
   "metadata": {},
   "outputs": [
    {
     "name": "stdout",
     "output_type": "stream",
     "text": [
      "Geographic coordinates (lat/long datum): 38.893320 -78.146780 WGS 84\n",
      "\n"
     ]
    }
   ],
   "source": [
    "print(coor)"
   ]
  },
  {
   "cell_type": "code",
   "execution_count": 37,
   "metadata": {},
   "outputs": [],
   "source": [
    "allT = coor.split( )\n",
    "lat = allT[4]\n",
    "long = allT[5]"
   ]
  },
  {
   "cell_type": "code",
   "execution_count": 38,
   "metadata": {},
   "outputs": [
    {
     "name": "stdout",
     "output_type": "stream",
     "text": [
      "38.893320\n",
      "-78.146780\n"
     ]
    }
   ],
   "source": [
    "print(lat)\n",
    "print(long)"
   ]
  },
  {
   "cell_type": "code",
   "execution_count": null,
   "metadata": {},
   "outputs": [],
   "source": [
    "#convert to local timezone from utc"
   ]
  }
 ],
 "metadata": {
  "kernelspec": {
   "display_name": "Python 3",
   "language": "python",
   "name": "python3"
  },
  "language_info": {
   "codemirror_mode": {
    "name": "ipython",
    "version": 3
   },
   "file_extension": ".py",
   "mimetype": "text/x-python",
   "name": "python",
   "nbconvert_exporter": "python",
   "pygments_lexer": "ipython3",
   "version": "3.7.3"
  }
 },
 "nbformat": 4,
 "nbformat_minor": 2
}
