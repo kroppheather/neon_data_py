{
 "cells": [
  {
   "cell_type": "code",
   "execution_count": 6,
   "metadata": {},
   "outputs": [],
   "source": [
    "import pandas as pd\n",
    "import numpy as np\n",
    "from datetime import datetime\n",
    "from matplotlib import pyplot as plt\n",
    "from pytz import timezone\n",
    "import pytz\n",
    "from timezonefinder import TimezoneFinder\n",
    "import glob\n",
    "import os"
   ]
  },
  {
   "cell_type": "code",
   "execution_count": 96,
   "metadata": {},
   "outputs": [],
   "source": [
    "import timezonefinder"
   ]
  },
  {
   "cell_type": "code",
   "execution_count": 2,
   "metadata": {},
   "outputs": [],
   "source": [
    "rad_df = pd.read_csv(r\"E:\\NEON\\net_rad\\NEON.D02.POSE.DP1.00023.001.2016-03.basic.20170919T035542Z\\NEON.D02.POSE.DP1.00023.001.200.000.030.SLRNR_30min.2016-03.basic.20170919T035542Z.csv\", \n",
    "                    header=0)"
   ]
  },
  {
   "cell_type": "code",
   "execution_count": 3,
   "metadata": {},
   "outputs": [
    {
     "name": "stdout",
     "output_type": "stream",
     "text": [
      "          startDateTime           endDateTime  inSWMean  inSWMinimum  \\\n",
      "0  2016-03-04T18:00:00Z  2016-03-04T18:30:00Z     54.22        50.51   \n",
      "1  2016-03-04T18:30:00Z  2016-03-04T19:00:00Z       NaN          NaN   \n",
      "2  2016-03-04T19:00:00Z  2016-03-04T19:30:00Z       NaN          NaN   \n",
      "3  2016-03-04T19:30:00Z  2016-03-04T20:00:00Z       NaN          NaN   \n",
      "4  2016-03-04T20:00:00Z  2016-03-04T20:30:00Z       NaN          NaN   \n",
      "\n",
      "   inSWMaximum  inSWVariance  inSWNumPts  inSWExpUncert  inSWStdErMean  \\\n",
      "0        58.25          6.23       273.0           1.15           0.15   \n",
      "1          NaN           NaN         NaN            NaN            NaN   \n",
      "2          NaN           NaN         NaN            NaN            NaN   \n",
      "3          NaN           NaN         NaN            NaN            NaN   \n",
      "4          NaN           NaN         NaN            NaN            NaN   \n",
      "\n",
      "   inSWFinalQF  ...  inLWStdErMean  inLWFinalQF  outLWMean  outLWMinimum  \\\n",
      "0          1.0  ...            0.0          1.0      332.4         331.7   \n",
      "1          1.0  ...            NaN          1.0        NaN           NaN   \n",
      "2          1.0  ...            NaN          1.0        NaN           NaN   \n",
      "3          1.0  ...            NaN          1.0        NaN           NaN   \n",
      "4          1.0  ...            NaN          1.0        NaN           NaN   \n",
      "\n",
      "   outLWMaximum  outLWVariance  outLWNumPts  outLWExpUncert  outLWStdErMean  \\\n",
      "0         333.2            0.2          NaN             5.8             0.0   \n",
      "1           NaN            NaN          NaN             NaN             NaN   \n",
      "2           NaN            NaN          NaN             NaN             NaN   \n",
      "3           NaN            NaN          NaN             NaN             NaN   \n",
      "4           NaN            NaN          NaN             NaN             NaN   \n",
      "\n",
      "   outLWFinalQF  \n",
      "0           1.0  \n",
      "1           1.0  \n",
      "2           1.0  \n",
      "3           1.0  \n",
      "4           1.0  \n",
      "\n",
      "[5 rows x 34 columns]\n"
     ]
    }
   ],
   "source": [
    "print(rad_df.head(5))"
   ]
  },
  {
   "cell_type": "code",
   "execution_count": 7,
   "metadata": {},
   "outputs": [
    {
     "data": {
      "text/plain": [
       "['startDateTime',\n",
       " 'endDateTime',\n",
       " 'inSWMean',\n",
       " 'inSWMinimum',\n",
       " 'inSWMaximum',\n",
       " 'inSWVariance',\n",
       " 'inSWNumPts',\n",
       " 'inSWExpUncert',\n",
       " 'inSWStdErMean',\n",
       " 'inSWFinalQF',\n",
       " 'outSWMean',\n",
       " 'outSWMinimum',\n",
       " 'outSWMaximum',\n",
       " 'outSWVariance',\n",
       " 'outSWNumPts',\n",
       " 'outSWExpUncert',\n",
       " 'outSWStdErMean',\n",
       " 'outSWFinalQF',\n",
       " 'inLWMean',\n",
       " 'inLWMinimum',\n",
       " 'inLWMaximum',\n",
       " 'inLWVariance',\n",
       " 'inLWNumPts',\n",
       " 'inLWExpUncert',\n",
       " 'inLWStdErMean',\n",
       " 'inLWFinalQF',\n",
       " 'outLWMean',\n",
       " 'outLWMinimum',\n",
       " 'outLWMaximum',\n",
       " 'outLWVariance',\n",
       " 'outLWNumPts',\n",
       " 'outLWExpUncert',\n",
       " 'outLWStdErMean',\n",
       " 'outLWFinalQF']"
      ]
     },
     "execution_count": 7,
     "metadata": {},
     "output_type": "execute_result"
    }
   ],
   "source": [
    "list(rad_df.columns) "
   ]
  },
  {
   "cell_type": "code",
   "execution_count": 4,
   "metadata": {},
   "outputs": [
    {
     "data": {
      "text/plain": [
       "604"
      ]
     },
     "execution_count": 4,
     "metadata": {},
     "output_type": "execute_result"
    }
   ],
   "source": [
    "total_rows = rad_df.shape[0]\n",
    "total_rows"
   ]
  },
  {
   "cell_type": "code",
   "execution_count": 5,
   "metadata": {},
   "outputs": [],
   "source": [
    "startT = pd.to_datetime(rad_df.startDateTime) \n",
    "endT = pd.to_datetime(rad_df.endDateTime)"
   ]
  },
  {
   "cell_type": "code",
   "execution_count": 24,
   "metadata": {},
   "outputs": [
    {
     "name": "stdout",
     "output_type": "stream",
     "text": [
      "0    64.750000\n",
      "1    64.791667\n",
      "2    64.791667\n",
      "Name: endDateTime, dtype: float64\n"
     ]
    }
   ],
   "source": [
    "timestamp = endT.dt.dayofyear + (endT.dt.hour/24)\n",
    "print(timestamp[0:3])"
   ]
  },
  {
   "cell_type": "code",
   "execution_count": 27,
   "metadata": {
    "scrolled": false
   },
   "outputs": [
    {
     "data": {
      "text/plain": [
       "[<matplotlib.lines.Line2D at 0x1b894954978>]"
      ]
     },
     "execution_count": 27,
     "metadata": {},
     "output_type": "execute_result"
    },
    {
     "data": {
      "image/png": "[encoded data removed]",
      "text/plain": [
       "<Figure size 432x288 with 1 Axes>"
      ]
     },
     "metadata": {
      "needs_background": "light"
     },
     "output_type": "display_data"
    }
   ],
   "source": [
    "#plot incoming shortwave\n",
    "plt.plot(timestamp[40:80],rad_df.inSWMean[40:80])"
   ]
  },
  {
   "cell_type": "code",
   "execution_count": 84,
   "metadata": {},
   "outputs": [
    {
     "name": "stdout",
     "output_type": "stream",
     "text": [
      "0   2016-03-04 18:30:00+00:00\n",
      "1   2016-03-04 19:00:00+00:00\n",
      "2   2016-03-04 19:30:00+00:00\n",
      "Name: endDateTime, dtype: datetime64[ns, UTC]\n"
     ]
    }
   ],
   "source": [
    "print(endT[0:3])"
   ]
  },
  {
   "cell_type": "code",
   "execution_count": 92,
   "metadata": {},
   "outputs": [
    {
     "name": "stdout",
     "output_type": "stream",
     "text": [
      "0   2016-03-04 13:30:00-05:00\n",
      "1   2016-03-04 14:00:00-05:00\n",
      "2   2016-03-04 14:30:00-05:00\n",
      "Name: endDateTime, dtype: datetime64[ns, US/Eastern]\n"
     ]
    }
   ],
   "source": [
    "ET = timezone('US/Eastern')\n",
    "\n",
    "s = endT\n",
    "\n",
    "def convert_datetime(dt: datetime) -> datetime:\n",
    "    \"\"\"Convert a localized datetime to Eastern time.\"\"\"\n",
    "    return dt.astimezone(ET)\n",
    "    \n",
    "localT = endT.apply(convert_datetime)\n",
    "print(localT[0:3])"
   ]
  },
  {
   "cell_type": "code",
   "execution_count": 101,
   "metadata": {},
   "outputs": [],
   "source": [
    "#first need to pull out lat long to convert to proper time zone\n",
    "readme =  open(r\"E:\\NEON\\net_rad\\NEON.D02.POSE.DP1.00023.001.2016-03.basic.20170919T035542Z\\NEON.DP1.00023.001_readme.txt\")\n",
    "coor = readme.readlines()[31]\n",
    "readme.close()"
   ]
  },
  {
   "cell_type": "code",
   "execution_count": 102,
   "metadata": {},
   "outputs": [
    {
     "name": "stdout",
     "output_type": "stream",
     "text": [
      "Geographic coordinates (lat/long datum): 38.893320 -78.146780 WGS 84\n",
      "\n"
     ]
    }
   ],
   "source": [
    "print(coor)"
   ]
  },
  {
   "cell_type": "code",
   "execution_count": 132,
   "metadata": {},
   "outputs": [],
   "source": [
    "allT = coor.split( )\n",
    "latT = float(allT[4])\n",
    "longT = float(allT[5])"
   ]
  },
  {
   "cell_type": "code",
   "execution_count": 133,
   "metadata": {},
   "outputs": [
    {
     "name": "stdout",
     "output_type": "stream",
     "text": [
      "38.89332\n",
      "-78.14678\n"
     ]
    }
   ],
   "source": [
    "print(latT)\n",
    "print(longT)"
   ]
  },
  {
   "cell_type": "code",
   "execution_count": null,
   "metadata": {},
   "outputs": [],
   "source": [
    "#convert to local timezone from utc"
   ]
  },
  {
   "cell_type": "code",
   "execution_count": 107,
   "metadata": {},
   "outputs": [],
   "source": [
    "tf = TimezoneFinder(in_memory=True)"
   ]
  },
  {
   "cell_type": "code",
   "execution_count": 136,
   "metadata": {},
   "outputs": [
    {
     "data": {
      "text/plain": [
       "'America/New_York'"
      ]
     },
     "execution_count": 136,
     "metadata": {},
     "output_type": "execute_result"
    }
   ],
   "source": [
    "tf.timezone_at(lng=longT, lat=latT) "
   ]
  },
  {
   "cell_type": "code",
   "execution_count": 137,
   "metadata": {},
   "outputs": [],
   "source": [
    "longitude = -8.358\n",
    "latitude = 45.5061\n",
    "tf.closest_timezone_at(lng=longitude, lat=latitude)"
   ]
  },
  {
   "cell_type": "code",
   "execution_count": 138,
   "metadata": {},
   "outputs": [
    {
     "name": "stdout",
     "output_type": "stream",
     "text": [
      "0   2016-03-04 13:30:00-05:00\n",
      "1   2016-03-04 14:00:00-05:00\n",
      "2   2016-03-04 14:30:00-05:00\n",
      "Name: endDateTime, dtype: datetime64[ns, America/New_York]\n"
     ]
    }
   ],
   "source": [
    "#convert to local timezone from utc\n",
    "#load timezone\n",
    "tf = TimezoneFinder(in_memory=True)\n",
    "#define timezone\n",
    "TTZ = tf.timezone_at(lng=longT, lat=latT) \n",
    "\n",
    "s = endT\n",
    "\n",
    "def convert_datetime(dt: datetime) -> datetime:\n",
    "    \"\"\"Convert a localized datetime to Eastern time.\"\"\"\n",
    "    return dt.astimezone(TTZ)\n",
    "    \n",
    "localT = s.apply(convert_datetime)\n",
    "print(localT[0:3])"
   ]
  },
  {
   "cell_type": "code",
   "execution_count": 140,
   "metadata": {},
   "outputs": [],
   "source": [
    "localTimestamp = localT.dt.dayofyear + (localT.dt.hour/24)"
   ]
  },
  {
   "cell_type": "code",
   "execution_count": 141,
   "metadata": {},
   "outputs": [
    {
     "data": {
      "text/plain": [
       "[<matplotlib.lines.Line2D at 0x1b89751ca90>]"
      ]
     },
     "execution_count": 141,
     "metadata": {},
     "output_type": "execute_result"
    },
    {
     "data": {
      "image/png": "[encoded data removed]",
      "text/plain": [
       "<Figure size 432x288 with 1 Axes>"
      ]
     },
     "metadata": {
      "needs_background": "light"
     },
     "output_type": "display_data"
    }
   ],
   "source": [
    "#plot incoming shortwave\n",
    "plt.plot(localTimestamp [40:80],rad_df.inSWMean[40:80])"
   ]
  },
  {
   "cell_type": "code",
   "execution_count": 17,
   "metadata": {},
   "outputs": [
    {
     "name": "stdout",
     "output_type": "stream",
     "text": [
      "['E:\\\\NEON\\\\net_rad\\\\NEON.D02.POSE.DP1.00023.001.2016-03.basic.20170919T035542Z', 'E:\\\\NEON\\\\net_rad\\\\NEON.D02.POSE.DP1.00023.001.2016-04.basic.20170919T042939Z', 'E:\\\\NEON\\\\net_rad\\\\NEON.D02.POSE.DP1.00023.001.2016-05.basic.20170919T084240Z', 'E:\\\\NEON\\\\net_rad\\\\NEON.D02.POSE.DP1.00023.001.2016-06.basic.20170919T090517Z', 'E:\\\\NEON\\\\net_rad\\\\NEON.D02.POSE.DP1.00023.001.2016-07.basic.20170930T131035Z']\n"
     ]
    }
   ],
   "source": [
    "#read in all files from directory\n",
    "path = r\"E:\\NEON\\net_rad\"\n",
    "\n",
    "#get the full pathname\n",
    "def listdir_fullpath(d):\n",
    "    return [os.path.join(d, f) for f in os.listdir(d)]\n",
    "\n",
    "\n",
    "Rpaths = listdir_fullpath(path)\n",
    "print(Rpaths[0:5])\n",
    "#for dir in Rpaths:\n",
    "#    all_files = glob.glob(Rpaths + \"/*_30min*.csv\")\n"
   ]
  },
  {
   "cell_type": "code",
   "execution_count": 19,
   "metadata": {},
   "outputs": [
    {
     "name": "stdout",
     "output_type": "stream",
     "text": [
      "['E:\\\\NEON\\\\net_rad\\\\NEON.D02.POSE.DP1.00023.001.2016-03.basic.20170919T035542Z\\\\NEON.D02.POSE.DP1.00023.001.200.000.030.SLRNR_30min.2016-03.basic.20170919T035542Z.csv']\n"
     ]
    }
   ],
   "source": [
    "#get file names\n",
    "all_files1 = glob.glob(Rpaths[0] + \"/*_30min*.csv\")\n",
    "print(all_files1)"
   ]
  },
  {
   "cell_type": "code",
   "execution_count": 38,
   "metadata": {},
   "outputs": [],
   "source": [
    "#now automate and get all csv file names\n",
    "all_files = []\n",
    "for path in Rpaths:\n",
    "    all_files += glob.glob(path + \"/*_30min*.csv\")"
   ]
  },
  {
   "cell_type": "code",
   "execution_count": 39,
   "metadata": {},
   "outputs": [
    {
     "name": "stdout",
     "output_type": "stream",
     "text": [
      "['E:\\\\NEON\\\\net_rad\\\\NEON.D02.POSE.DP1.00023.001.2016-03.basic.20170919T035542Z\\\\NEON.D02.POSE.DP1.00023.001.200.000.030.SLRNR_30min.2016-03.basic.20170919T035542Z.csv', 'E:\\\\NEON\\\\net_rad\\\\NEON.D02.POSE.DP1.00023.001.2016-04.basic.20170919T042939Z\\\\NEON.D02.POSE.DP1.00023.001.200.000.030.SLRNR_30min.2016-04.basic.20170919T042939Z.csv', 'E:\\\\NEON\\\\net_rad\\\\NEON.D02.POSE.DP1.00023.001.2016-05.basic.20170919T084240Z\\\\NEON.D02.POSE.DP1.00023.001.200.000.030.SLRNR_30min.2016-05.basic.20170919T084240Z.csv', 'E:\\\\NEON\\\\net_rad\\\\NEON.D02.POSE.DP1.00023.001.2016-06.basic.20170919T090517Z\\\\NEON.D02.POSE.DP1.00023.001.200.000.030.SLRNR_30min.2016-06.basic.20170919T090517Z.csv', 'E:\\\\NEON\\\\net_rad\\\\NEON.D02.POSE.DP1.00023.001.2016-07.basic.20170930T131035Z\\\\NEON.D02.POSE.DP1.00023.001.200.000.030.SLRNR_30min.2016-07.basic.20170930T131035Z.csv']\n"
     ]
    }
   ],
   "source": [
    "print(all_files[0:5])"
   ]
  },
  {
   "cell_type": "code",
   "execution_count": 43,
   "metadata": {},
   "outputs": [],
   "source": [
    "list_of_dfs = [pd.read_csv(filename) for filename in all_files]"
   ]
  },
  {
   "cell_type": "code",
   "execution_count": 42,
   "metadata": {},
   "outputs": [
    {
     "data": {
      "text/plain": [
       "1174"
      ]
     },
     "execution_count": 42,
     "metadata": {},
     "output_type": "execute_result"
    }
   ],
   "source": [
    "len(list_of_dfs)"
   ]
  },
  {
   "cell_type": "code",
   "execution_count": 45,
   "metadata": {},
   "outputs": [
    {
     "name": "stdout",
     "output_type": "stream",
     "text": [
      "            startDateTime           endDateTime  inSWMean  inSWMinimum  \\\n",
      "0    2016-03-04T18:00:00Z  2016-03-04T18:30:00Z     54.22        50.51   \n",
      "1    2016-03-04T18:30:00Z  2016-03-04T19:00:00Z       NaN          NaN   \n",
      "2    2016-03-04T19:00:00Z  2016-03-04T19:30:00Z       NaN          NaN   \n",
      "3    2016-03-04T19:30:00Z  2016-03-04T20:00:00Z       NaN          NaN   \n",
      "4    2016-03-04T20:00:00Z  2016-03-04T20:30:00Z       NaN          NaN   \n",
      "5    2016-03-04T20:30:00Z  2016-03-04T21:00:00Z       NaN          NaN   \n",
      "6    2016-03-04T21:00:00Z  2016-03-04T21:30:00Z       NaN          NaN   \n",
      "7    2016-03-04T21:30:00Z  2016-03-04T22:00:00Z       NaN          NaN   \n",
      "8    2016-03-05T10:00:00Z  2016-03-05T10:30:00Z       NaN          NaN   \n",
      "9    2016-03-05T10:30:00Z  2016-03-05T11:00:00Z       NaN          NaN   \n",
      "10   2016-03-05T11:00:00Z  2016-03-05T11:30:00Z       NaN          NaN   \n",
      "11   2016-03-05T11:30:00Z  2016-03-05T12:00:00Z       NaN          NaN   \n",
      "12   2016-03-05T12:00:00Z  2016-03-05T12:30:00Z       NaN          NaN   \n",
      "13   2016-03-05T12:30:00Z  2016-03-05T13:00:00Z       NaN          NaN   \n",
      "14   2016-03-05T13:00:00Z  2016-03-05T13:30:00Z       NaN          NaN   \n",
      "15   2016-03-05T13:30:00Z  2016-03-05T14:00:00Z       NaN          NaN   \n",
      "16   2016-03-05T14:00:00Z  2016-03-05T14:30:00Z     71.75        67.59   \n",
      "17   2016-03-05T14:30:00Z  2016-03-05T15:00:00Z    122.16        85.07   \n",
      "18   2016-03-05T15:00:00Z  2016-03-05T15:30:00Z    166.56       135.23   \n",
      "19   2016-03-05T15:30:00Z  2016-03-05T16:00:00Z    264.79       158.48   \n",
      "20   2016-03-05T16:00:00Z  2016-03-05T16:30:00Z    194.89       162.35   \n",
      "21   2016-03-05T16:30:00Z  2016-03-05T17:00:00Z    313.07       146.70   \n",
      "22   2016-03-05T17:00:00Z  2016-03-05T17:30:00Z    271.51       119.08   \n",
      "23   2016-03-05T17:30:00Z  2016-03-05T18:00:00Z    233.45       116.98   \n",
      "24   2016-03-05T18:00:00Z  2016-03-05T18:30:00Z    204.59       156.35   \n",
      "25   2016-03-05T18:30:00Z  2016-03-05T19:00:00Z    167.29       135.15   \n",
      "26   2016-03-05T19:00:00Z  2016-03-05T19:30:00Z    284.04       135.90   \n",
      "27   2016-03-05T19:30:00Z  2016-03-05T20:00:00Z    146.98        88.86   \n",
      "28   2016-03-05T20:00:00Z  2016-03-05T20:30:00Z    118.21        83.54   \n",
      "29   2016-03-05T20:30:00Z  2016-03-05T21:00:00Z     72.37        48.50   \n",
      "..                    ...                   ...       ...          ...   \n",
      "574  2016-03-31T09:00:00Z  2016-03-31T09:30:00Z     -1.86        -3.24   \n",
      "575  2016-03-31T09:30:00Z  2016-03-31T10:00:00Z     -1.53        -2.61   \n",
      "576  2016-03-31T10:00:00Z  2016-03-31T10:30:00Z     -1.97        -3.44   \n",
      "577  2016-03-31T10:30:00Z  2016-03-31T11:00:00Z     -0.80        -2.71   \n",
      "578  2016-03-31T11:00:00Z  2016-03-31T11:30:00Z      7.89         0.61   \n",
      "579  2016-03-31T11:30:00Z  2016-03-31T12:00:00Z     24.04        19.33   \n",
      "580  2016-03-31T12:00:00Z  2016-03-31T12:30:00Z     32.96        22.38   \n",
      "581  2016-03-31T12:30:00Z  2016-03-31T13:00:00Z     92.01        52.63   \n",
      "582  2016-03-31T13:00:00Z  2016-03-31T13:30:00Z    126.67        84.69   \n",
      "583  2016-03-31T13:30:00Z  2016-03-31T14:00:00Z    138.03       122.93   \n",
      "584  2016-03-31T14:00:00Z  2016-03-31T14:30:00Z    234.19       120.84   \n",
      "585  2016-03-31T14:30:00Z  2016-03-31T15:00:00Z    283.08       111.49   \n",
      "586  2016-03-31T15:00:00Z  2016-03-31T15:30:00Z    316.54       108.97   \n",
      "587  2016-03-31T15:30:00Z  2016-03-31T16:00:00Z    435.87       262.56   \n",
      "588  2016-03-31T16:00:00Z  2016-03-31T16:30:00Z    376.65       200.55   \n",
      "589  2016-03-31T16:30:00Z  2016-03-31T17:00:00Z    261.85       154.95   \n",
      "590  2016-03-31T17:00:00Z  2016-03-31T17:30:00Z    240.21       163.69   \n",
      "591  2016-03-31T17:30:00Z  2016-03-31T18:00:00Z    221.53       145.68   \n",
      "592  2016-03-31T18:00:00Z  2016-03-31T18:30:00Z    110.93        71.49   \n",
      "593  2016-03-31T18:30:00Z  2016-03-31T19:00:00Z    169.05        72.27   \n",
      "594  2016-03-31T19:00:00Z  2016-03-31T19:30:00Z    145.35       100.31   \n",
      "595  2016-03-31T19:30:00Z  2016-03-31T20:00:00Z    110.62        83.13   \n",
      "596  2016-03-31T20:00:00Z  2016-03-31T20:30:00Z     87.37        65.36   \n",
      "597  2016-03-31T20:30:00Z  2016-03-31T21:00:00Z     76.54        59.37   \n",
      "598  2016-03-31T21:00:00Z  2016-03-31T21:30:00Z     47.98        22.55   \n",
      "599  2016-03-31T21:30:00Z  2016-03-31T22:00:00Z     39.51        22.90   \n",
      "600  2016-03-31T22:00:00Z  2016-03-31T22:30:00Z     41.06        17.04   \n",
      "601  2016-03-31T22:30:00Z  2016-03-31T23:00:00Z     27.89         6.21   \n",
      "602  2016-03-31T23:00:00Z  2016-03-31T23:30:00Z      7.33         0.15   \n",
      "603  2016-03-31T23:30:00Z  2016-04-01T00:00:00Z     -0.53        -1.13   \n",
      "\n",
      "     inSWMaximum  inSWVariance  inSWNumPts  inSWExpUncert  inSWStdErMean  \\\n",
      "0          58.25          6.23       273.0           1.15           0.15   \n",
      "1            NaN           NaN         NaN            NaN            NaN   \n",
      "2            NaN           NaN         NaN            NaN            NaN   \n",
      "3            NaN           NaN         NaN            NaN            NaN   \n",
      "4            NaN           NaN         NaN            NaN            NaN   \n",
      "5            NaN           NaN         NaN            NaN            NaN   \n",
      "6            NaN           NaN         NaN            NaN            NaN   \n",
      "7            NaN           NaN         NaN            NaN            NaN   \n",
      "8            NaN           NaN         NaN            NaN            NaN   \n",
      "9            NaN           NaN         NaN            NaN            NaN   \n",
      "10           NaN           NaN         NaN            NaN            NaN   \n",
      "11           NaN           NaN         NaN            NaN            NaN   \n",
      "12           NaN           NaN         NaN            NaN            NaN   \n",
      "13           NaN           NaN         NaN            NaN            NaN   \n",
      "14           NaN           NaN         NaN            NaN            NaN   \n",
      "15           NaN           NaN         NaN            NaN            NaN   \n",
      "16         85.08         14.54      1799.0           1.64           0.09   \n",
      "17        172.46        817.98      1800.0           3.56           0.67   \n",
      "18           NaN       1135.01      1800.0           5.20           0.79   \n",
      "19        433.99       5813.21      1800.0           9.04           1.80   \n",
      "20        312.40        931.01      1800.0           6.14           0.72   \n",
      "21        617.33      17326.24      1800.0          13.32           3.10   \n",
      "22        723.89      18748.24      1800.0          15.26           3.23   \n",
      "23        554.01       5602.72      1800.0          11.15           1.76   \n",
      "24        288.26        881.52      1800.0           5.68           0.70   \n",
      "25        201.37        356.62      1800.0           3.95           0.45   \n",
      "26        521.45       5788.99      1800.0          10.59           1.79   \n",
      "27        486.95       6591.59      1800.0          10.06           1.91   \n",
      "28        256.34       1008.78      1800.0           5.12           0.75   \n",
      "29        117.31        217.63      1800.0           2.35           0.35   \n",
      "..           ...           ...         ...            ...            ...   \n",
      "574        -0.17          0.30      1800.0           0.07           0.01   \n",
      "575        -0.17          0.32      1800.0           0.06           0.01   \n",
      "576        -0.53          0.36      1800.0           0.08           0.01   \n",
      "577         0.95          0.72      1800.0           0.07           0.02   \n",
      "578        19.36         24.10      1800.0           0.44           0.12   \n",
      "579        26.30          2.46      1800.0           0.51           0.04   \n",
      "580        53.48         96.06      1800.0           1.12           0.23   \n",
      "581       215.39       1331.83      1800.0           4.46           0.86   \n",
      "582       221.50       1047.64      1800.0           4.50           0.76   \n",
      "583       167.61           NaN      1800.0           3.25           0.27   \n",
      "584       425.71       6671.72      1800.0           9.00           1.93   \n",
      "585       506.90      10824.09      1800.0          10.85           2.45   \n",
      "586       585.18      17094.76      1800.0          12.76           3.08   \n",
      "587       642.17       9527.72      1800.0          13.10           2.30   \n",
      "588       640.76      10533.51      1800.0          13.16           2.42   \n",
      "589       547.71       6395.36      1800.0          11.12           1.88   \n",
      "590       423.27       3219.22      1800.0           8.52           1.34   \n",
      "591       430.18       3266.70      1800.0           8.65           1.35   \n",
      "592       145.38        527.56      1800.0           2.98           0.54   \n",
      "593       344.62       7452.16      1800.0           7.74           2.03   \n",
      "594       238.38       1798.18      1800.0           4.97           1.00   \n",
      "595       129.83        167.16      1800.0           2.55           0.30   \n",
      "596       110.78        160.45      1800.0           2.20           0.30   \n",
      "597        91.60         64.25      1800.0           1.79           0.19   \n",
      "598        75.60        272.35      1800.0           1.64           0.39   \n",
      "599        51.49         62.38      1800.0           1.05           0.19   \n",
      "600        55.69        131.52      1800.0           1.19           0.27   \n",
      "601        57.21        353.82      1800.0           1.41           0.44   \n",
      "602        14.82         22.54      1800.0           0.36            NaN   \n",
      "603         0.29          0.06      1800.0           0.04           0.01   \n",
      "\n",
      "     inSWFinalQF  ...  inLWStdErMean  inLWFinalQF  outLWMean  outLWMinimum  \\\n",
      "0            1.0  ...            0.0          1.0      332.4         331.7   \n",
      "1            1.0  ...            NaN          1.0        NaN           NaN   \n",
      "2            1.0  ...            NaN          1.0        NaN           NaN   \n",
      "3            1.0  ...            NaN          1.0        NaN           NaN   \n",
      "4            1.0  ...            NaN          1.0        NaN           NaN   \n",
      "5            1.0  ...            NaN          1.0        NaN           NaN   \n",
      "6            1.0  ...            NaN          1.0        NaN           NaN   \n",
      "7            1.0  ...            NaN          1.0        NaN           NaN   \n",
      "8            1.0  ...            NaN          1.0        NaN           NaN   \n",
      "9            1.0  ...            NaN          1.0        NaN           NaN   \n",
      "10           1.0  ...            NaN          1.0        NaN           NaN   \n",
      "11           1.0  ...            NaN          1.0        NaN           NaN   \n",
      "12           1.0  ...            NaN          1.0        NaN           NaN   \n",
      "13           1.0  ...            NaN          NaN        NaN           NaN   \n",
      "14           1.0  ...            NaN          1.0        NaN           NaN   \n",
      "15           1.0  ...            NaN          1.0        NaN           NaN   \n",
      "16           0.0  ...            0.0          0.0      332.4         331.3   \n",
      "17           0.0  ...            0.1          0.0      337.3         332.6   \n",
      "18           NaN  ...            0.1          0.0      343.5         339.2   \n",
      "19           0.0  ...            0.1          0.0      352.1         342.1   \n",
      "20           0.0  ...            0.1          0.0      353.7         350.0   \n",
      "21           0.0  ...            0.2          0.0      361.1         349.2   \n",
      "22           0.0  ...            0.2          0.0      367.7         355.1   \n",
      "23           0.0  ...            0.1          0.0      364.0         353.6   \n",
      "24           0.0  ...            0.1          0.0      361.1         355.2   \n",
      "25           0.0  ...            0.0          0.0      357.4         353.3   \n",
      "26           0.0  ...            0.1          0.0      369.9         353.4   \n",
      "27           0.0  ...            0.1          0.0      354.7         348.3   \n",
      "28           0.0  ...            0.1          0.0      351.0         347.6   \n",
      "29           0.0  ...            0.2          0.0      347.4         343.5   \n",
      "..           ...  ...            ...          ...        ...           ...   \n",
      "574          0.0  ...            0.0          0.0      367.1         364.3   \n",
      "575          0.0  ...            0.0          0.0      366.9         363.1   \n",
      "576          0.0  ...            0.0          0.0      365.8         362.2   \n",
      "577          0.0  ...            0.0          0.0      366.4         364.1   \n",
      "578          0.0  ...            0.0          0.0      367.0         364.7   \n",
      "579          0.0  ...            0.0          0.0      370.7         368.5   \n",
      "580          0.0  ...            0.0          0.0      373.6         370.5   \n",
      "581          0.0  ...            0.1          0.0      383.8         377.4   \n",
      "582          0.0  ...            0.0          0.0      393.5         389.9   \n",
      "583          0.0  ...            0.0          0.0      399.3         396.0   \n",
      "584          0.0  ...            0.1          0.0      409.4         400.1   \n",
      "585          NaN  ...            0.0          0.0      422.2         412.9   \n",
      "586          0.0  ...            0.1          0.0      435.4         428.1   \n",
      "587          0.0  ...            0.0          0.0      438.4         430.2   \n",
      "588          0.0  ...            NaN          0.0      445.5         436.1   \n",
      "589          0.0  ...            0.1          0.0      439.7         428.5   \n",
      "590          0.0  ...            0.1          0.0      445.2         430.8   \n",
      "591          0.0  ...            0.0          0.0      437.7         428.2   \n",
      "592          0.0  ...            0.0          0.0      424.1         418.8   \n",
      "593          0.0  ...            0.0          0.0      427.7         417.2   \n",
      "594          0.0  ...            0.0          0.0      431.0         425.1   \n",
      "595          0.0  ...            0.0          0.0      426.2         422.0   \n",
      "596          0.0  ...            0.0          0.0      421.9         419.6   \n",
      "597          0.0  ...            0.1          0.0      421.4         420.1   \n",
      "598          0.0  ...            0.1          0.0      419.7         417.1   \n",
      "599          0.0  ...            0.0          0.0      418.0         416.6   \n",
      "600          0.0  ...            0.1          0.0      417.9         416.4   \n",
      "601          0.0  ...            0.1          0.0      416.4         412.7   \n",
      "602          0.0  ...            0.1          0.0      411.6         409.6   \n",
      "603          0.0  ...            0.0          0.0      410.5         407.8   \n",
      "\n",
      "     outLWMaximum  outLWVariance  outLWNumPts  outLWExpUncert  outLWStdErMean  \\\n",
      "0           333.2            0.2          NaN             5.8             0.0   \n",
      "1             NaN            NaN          NaN             NaN             NaN   \n",
      "2             NaN            NaN          NaN             NaN             NaN   \n",
      "3             NaN            NaN          NaN             NaN             NaN   \n",
      "4             NaN            NaN          NaN             NaN             NaN   \n",
      "5             NaN            NaN          NaN             NaN             NaN   \n",
      "6             NaN            NaN          NaN             NaN             NaN   \n",
      "7             NaN            NaN          NaN             NaN             NaN   \n",
      "8             NaN            NaN          NaN             NaN             NaN   \n",
      "9             NaN            NaN          NaN             NaN             NaN   \n",
      "10            NaN            NaN          NaN             NaN             NaN   \n",
      "11            NaN            NaN          NaN             NaN             NaN   \n",
      "12            NaN            NaN          NaN             NaN             NaN   \n",
      "13            NaN            NaN          NaN             NaN             NaN   \n",
      "14            NaN            NaN          NaN             NaN             NaN   \n",
      "15            NaN            NaN          NaN             NaN             NaN   \n",
      "16          334.2            0.3       1800.0             5.8             0.0   \n",
      "17          342.1            6.5       1800.0             5.8             0.1   \n",
      "18          349.1            5.0       1800.0             5.8             0.1   \n",
      "19          359.0           17.7       1800.0             5.8             0.1   \n",
      "20          358.7            3.8       1800.0             5.8             0.0   \n",
      "21          375.8           42.2       1800.0             5.8             0.2   \n",
      "22          382.5           56.3       1800.0             5.8             0.2   \n",
      "23          385.1           43.5       1800.0             5.8             0.2   \n",
      "24          372.9           13.0       1800.0             5.8             0.1   \n",
      "25          362.4            3.5       1800.0             5.8             0.0   \n",
      "26          381.0           44.1       1800.0             5.8             0.2   \n",
      "27            NaN           20.8       1800.0             5.8             0.1   \n",
      "28          358.4            4.9       1800.0             5.8             0.1   \n",
      "29          356.7            6.1       1800.0             5.8             0.1   \n",
      "..            ...            ...          ...             ...             ...   \n",
      "574         370.7            1.7       1800.0             5.8             0.0   \n",
      "575         371.4            4.1       1800.0             5.8             0.0   \n",
      "576         369.0            2.0       1800.0             5.8             0.0   \n",
      "577         370.0            1.7       1800.0             5.8             0.0   \n",
      "578         370.3            2.0       1800.0             5.8             0.0   \n",
      "579         371.9            0.7       1800.0             5.8             0.0   \n",
      "580         377.5            3.2       1800.0             5.8             0.0   \n",
      "581         392.7           11.3       1800.0             5.8             0.1   \n",
      "582         399.3            6.0       1800.0             5.8             0.1   \n",
      "583         402.5            2.3       1800.0             5.8             0.0   \n",
      "584         424.8           53.8       1800.0             5.8             0.2   \n",
      "585         432.0           16.8       1800.0             5.8             0.1   \n",
      "586         441.3            8.3       1800.0             5.8             NaN   \n",
      "587         449.5           15.1       1800.0             5.8             0.1   \n",
      "588         455.7           33.7       1800.0             5.8             0.1   \n",
      "589         461.3           48.4       1800.0             5.8             0.2   \n",
      "590         463.5           77.7       1800.0             5.8             0.2   \n",
      "591         449.2           23.0       1800.0             5.8             0.1   \n",
      "592         430.3            8.5       1800.0             5.8             0.1   \n",
      "593         445.1           80.3       1800.0             5.8             0.2   \n",
      "594         439.8           18.9       1800.0             5.8             0.1   \n",
      "595         428.6            2.3       1800.0             5.8             0.0   \n",
      "596         425.0            2.0       1800.0             5.8             0.0   \n",
      "597         422.9            0.5       1800.0             5.8             0.0   \n",
      "598         422.5            2.4       1800.0             5.8             0.0   \n",
      "599         418.8            0.3       1800.0             5.8             0.0   \n",
      "600         419.2            0.4       1800.0             5.8             0.0   \n",
      "601         419.3            4.1       1800.0             5.8             0.0   \n",
      "602         413.6            0.7       1800.0             5.8             0.0   \n",
      "603         412.3            0.7       1800.0             5.8             0.0   \n",
      "\n",
      "     outLWFinalQF  \n",
      "0             1.0  \n",
      "1             1.0  \n",
      "2             1.0  \n",
      "3             1.0  \n",
      "4             1.0  \n",
      "5             1.0  \n",
      "6             1.0  \n",
      "7             1.0  \n",
      "8             1.0  \n",
      "9             1.0  \n",
      "10            1.0  \n",
      "11            1.0  \n",
      "12            1.0  \n",
      "13            1.0  \n",
      "14            1.0  \n",
      "15            1.0  \n",
      "16            0.0  \n",
      "17            0.0  \n",
      "18            0.0  \n",
      "19            0.0  \n",
      "20            0.0  \n",
      "21            0.0  \n",
      "22            0.0  \n",
      "23            0.0  \n",
      "24            0.0  \n",
      "25            0.0  \n",
      "26            0.0  \n",
      "27            0.0  \n",
      "28            0.0  \n",
      "29            0.0  \n",
      "..            ...  \n",
      "574           0.0  \n",
      "575           0.0  \n",
      "576           0.0  \n",
      "577           0.0  \n",
      "578           0.0  \n",
      "579           0.0  \n",
      "580           0.0  \n",
      "581           0.0  \n",
      "582           0.0  \n",
      "583           0.0  \n",
      "584           0.0  \n",
      "585           0.0  \n",
      "586           0.0  \n",
      "587           0.0  \n",
      "588           0.0  \n",
      "589           0.0  \n",
      "590           0.0  \n",
      "591           0.0  \n",
      "592           0.0  \n",
      "593           0.0  \n",
      "594           0.0  \n",
      "595           0.0  \n",
      "596           0.0  \n",
      "597           0.0  \n",
      "598           0.0  \n",
      "599           0.0  \n",
      "600           0.0  \n",
      "601           0.0  \n",
      "602           0.0  \n",
      "603           0.0  \n",
      "\n",
      "[604 rows x 34 columns]\n"
     ]
    }
   ],
   "source": [
    "print(list_of_dfs[0])"
   ]
  },
  {
   "cell_type": "code",
   "execution_count": 34,
   "metadata": {},
   "outputs": [
    {
     "data": {
      "text/plain": [
       "['E:\\\\NEON\\\\net_rad\\\\NEON.D19.HEAL.DP1.00023.001.2019-06.basic.20190704T015042Z\\\\NEON.D19.HEAL.DP1.00023.001.000.040.030.SLRNR_30min.2019-06.basic.20190704T015042Z.csv',\n",
       " 'E:\\\\NEON\\\\net_rad\\\\NEON.D19.HEAL.DP1.00023.001.2019-06.basic.20190704T015042Z\\\\NEON.D19.HEAL.DP1.00023.001.003.000.030.SLRNR_30min.2019-06.basic.20190704T015042Z.csv']"
      ]
     },
     "execution_count": 34,
     "metadata": {},
     "output_type": "execute_result"
    }
   ],
   "source": [
    "all_files"
   ]
  },
  {
   "cell_type": "code",
   "execution_count": 48,
   "metadata": {},
   "outputs": [],
   "source": [
    "#get readme file paths with local  coordinates\n",
    "readMeFiles = []\n",
    "for path in Rpaths:\n",
    "    readMeFiles  += glob.glob(path + \"/*readme*.txt\")\n",
    "\n",
    "assert  len(readMeFiles) == len(Rpaths)"
   ]
  },
  {
   "cell_type": "code",
   "execution_count": 49,
   "metadata": {},
   "outputs": [
    {
     "name": "stdout",
     "output_type": "stream",
     "text": [
      "['E:\\\\NEON\\\\net_rad\\\\NEON.D02.POSE.DP1.00023.001.2016-03.basic.20170919T035542Z\\\\NEON.DP1.00023.001_readme.txt', 'E:\\\\NEON\\\\net_rad\\\\NEON.D02.POSE.DP1.00023.001.2016-04.basic.20170919T042939Z\\\\NEON.DP1.00023.001_readme.txt', 'E:\\\\NEON\\\\net_rad\\\\NEON.D02.POSE.DP1.00023.001.2016-05.basic.20170919T084240Z\\\\NEON.DP1.00023.001_readme.txt', 'E:\\\\NEON\\\\net_rad\\\\NEON.D02.POSE.DP1.00023.001.2016-06.basic.20170919T090517Z\\\\NEON.DP1.00023.001_readme.txt', 'E:\\\\NEON\\\\net_rad\\\\NEON.D02.POSE.DP1.00023.001.2016-07.basic.20170930T131035Z\\\\NEON.DP1.00023.001_readme.txt']\n"
     ]
    }
   ],
   "source": [
    "print(readMeFiles[0:5])"
   ]
  },
  {
   "cell_type": "code",
   "execution_count": 59,
   "metadata": {},
   "outputs": [],
   "source": [
    "#get coordinates from each readme\n",
    "coorAll = []\n",
    "for path in readMeFiles:\n",
    "    readme =  open(path)\n",
    "    for line in readme.readlines():\n",
    "        if line.startswith(\"Geographic coordinates\"):\n",
    "            coorAll.append(line)\n",
    "            break\n",
    "    readme.close()\n",
    "assert len(coorAll) == len(Rpaths)"
   ]
  },
  {
   "cell_type": "code",
   "execution_count": 60,
   "metadata": {},
   "outputs": [
    {
     "name": "stdout",
     "output_type": "stream",
     "text": [
      "['Geographic coordinates (lat/long datum): 38.893320 -78.146780 WGS 84\\n', 'Geographic coordinates (lat/long datum): 38.893320 -78.146780 WGS 84\\n', 'Geographic coordinates (lat/long datum): 38.893320 -78.146780 WGS 84\\n', 'Geographic coordinates (lat/long datum): 38.893320 -78.146780 WGS 84\\n', 'Geographic coordinates (lat/long datum): 38.893320 -78.146780 WGS 84\\n']\n"
     ]
    }
   ],
   "source": [
    "print(coorAll[0:5])"
   ]
  },
  {
   "cell_type": "code",
   "execution_count": 69,
   "metadata": {},
   "outputs": [
    {
     "name": "stdout",
     "output_type": "stream",
     "text": [
      "Geographic coordinates (lat/long datum): 38.893320 -78.146780 WGS 84\n",
      "\n"
     ]
    }
   ],
   "source": [
    "print(coorAll[0])"
   ]
  },
  {
   "cell_type": "code",
   "execution_count": 72,
   "metadata": {},
   "outputs": [
    {
     "name": "stdout",
     "output_type": "stream",
     "text": [
      "['Geographic', 'coordinates', '(lat/long', 'datum):', '38.893320', '-78.146780', 'WGS', '84']\n"
     ]
    }
   ],
   "source": [
    "check = coorAll[0]\n",
    "tsp = check.split()\n",
    "print(tsp)"
   ]
  },
  {
   "cell_type": "code",
   "execution_count": null,
   "metadata": {},
   "outputs": [],
   "source": []
  },
  {
   "cell_type": "code",
   "execution_count": 74,
   "metadata": {},
   "outputs": [],
   "source": [
    "#next steps need to figure out local timezone\n",
    "latT = []\n",
    "longT = []\n",
    "\n",
    "for cr in coorAll:\n",
    "    allT = cr\n",
    "    spAll = allT.split()\n",
    "    latT += float(spAll[4])\n",
    "    longT += spAll[5]\n"
   ]
  },
  {
   "cell_type": "code",
   "execution_count": 75,
   "metadata": {},
   "outputs": [
    {
     "name": "stdout",
     "output_type": "stream",
     "text": [
      "['3', '8', '.', '8', '9', '3', '3', '2', '0', '3', '8', '.', '8', '9', '3', '3', '2', '0', '3', '8', '.', '8', '9', '3', '3', '2', '0', '3', '8', '.', '8', '9', '3', '3', '2', '0', '3', '8', '.', '8', '9', '3', '3', '2', '0', '3', '8', '.', '8', '9', '3', '3', '2', '0', '3', '8', '.', '8', '9', '3', '3', '2', '0', '3', '8', '.', '8', '9', '3', '3', '2', '0', '3', '8', '.', '8', '9', '3', '3', '2', '0', '3', '8', '.', '8', '9', '3', '3', '2', '0', '3', '8', '.', '8', '9', '3', '3', '2', '0', '3', '8', '.', '8', '9', '3', '3', '2', '0', '3', '8', '.', '8', '9', '3', '3', '2', '0', '3', '8', '.', '8', '9', '3', '3', '2', '0', '3', '8', '.', '8', '9', '3', '3', '2', '0', '3', '8', '.', '8', '9', '3', '3', '2', '0', '3', '8', '.', '8', '9', '3', '3', '2', '0', '3', '8', '.', '8', '9', '3', '3', '2', '0', '3', '8', '.', '8', '9', '3', '3', '2', '0', '3', '8', '.', '8', '9', '4', '3', '1', '0', '3', '8', '.', '8', '9', '3', '3', '2', '0', '3', '8', '.', '8', '9', '3', '3', '2', '0', '3', '8', '.', '8', '9', '4', '3', '1', '0', '3', '8', '.', '8', '9', '4', '3', '1', '0', '3', '8', '.', '8', '9', '4', '3', '1', '0', '3', '8', '.', '8', '9', '4', '3', '1', '0', '3', '8', '.', '8', '9', '4', '3', '1', '0', '3', '8', '.', '8', '9', '4', '3', '1', '0', '3', '8', '.', '8', '9', '4', '3', '1', '0', '3', '8', '.', '8', '9', '4', '3', '1', '0', '3', '8', '.', '8', '9', '4', '3', '1', '0', '3', '8', '.', '8', '9', '4', '3', '1', '0', '3', '8', '.', '8', '9', '4', '3', '1', '0', '3', '8', '.', '8', '9', '4', '3', '1', '0', '3', '8', '.', '8', '9', '4', '3', '1', '0', '3', '8', '.', '8', '9', '4', '3', '1', '0', '3', '8', '.', '8', '9', '4', '3', '1', '0', '3', '8', '.', '8', '9', '4', '3', '1', '0', '3', '8', '.', '8', '9', '4', '3', '1', '0', '3', '8', '.', '8', '9', '4', '3', '1', '0', '2', '9', '.', '6', '7', '5', '9', '8', '2', '2', '9', '.', '6', '7', '5', '9', '8', '2', '2', '9', '.', '6', '7', '5', '9', '8', '2', '2', '9', '.', '6', '7', '5', '9', '8', '2', '2', '9', '.', '6', '7', '5', '9', '8', '2', '2', '9', '.', '6', '7', '5', '9', '8', '2', '2', '9', '.', '6', '7', '5', '9', '8', '2', '2', '9', '.', '6', '7', '5', '9', '8', '2', '2', '9', '.', '6', '7', '5', '9', '8', '2', '2', '9', '.', '6', '7', '5', '9', '8', '2', '2', '9', '.', '6', '7', '5', '9', '8', '2', '2', '9', '.', '6', '7', '5', '9', '8', '2', '2', '9', '.', '6', '7', '5', '9', '8', '2', '2', '9', '.', '6', '7', '5', '9', '8', '2', '2', '9', '.', '6', '7', '5', '9', '8', '2', '2', '9', '.', '6', '7', '5', '9', '8', '2', '2', '9', '.', '6', '7', '5', '9', '8', '2', '2', '9', '.', '6', '7', '5', '9', '8', '2', '2', '9', '.', '6', '7', '5', '9', '8', '2', '2', '9', '.', '6', '7', '5', '9', '8', '2', '2', '9', '.', '6', '7', '5', '9', '8', '2', '2', '9', '.', '6', '7', '5', '9', '8', '2', '2', '9', '.', '6', '7', '5', '9', '8', '2', '4', '6', '.', '2', '0', '9', '6', '7', '5', '4', '6', '.', '2', '0', '9', '6', '7', '5', '4', '6', '.', '2', '0', '9', '6', '7', '5', '4', '6', '.', '2', '0', '9', '6', '7', '5', '4', '6', '.', '2', '0', '9', '6', '7', '5', '4', '6', '.', '2', '0', '9', '6', '7', '5', '4', '6', '.', '2', '0', '9', '6', '7', '5', '4', '6', '.', '2', '0', '9', '6', '7', '5', '4', '6', '.', '2', '0', '9', '6', '7', '5', '4', '6', '.', '2', '0', '9', '6', '7', '5', '4', '6', '.', '2', '0', '9', '6', '7', '5', '4', '6', '.', '2', '0', '9', '6', '7', '5', '4', '6', '.', '2', '0', '9', '6', '7', '5', '4', '6', '.', '2', '0', '9', '6', '7', '5', '4', '6', '.', '2', '0', '9', '6', '7', '5', '4', '6', '.', '2', '0', '9', '6', '7', '5', '4', '6', '.', '2', '0', '9', '6', '7', '5', '4', '6', '.', '2', '0', '9', '6', '7', '5', '4', '6', '.', '2', '0', '9', '6', '7', '5', '4', '6', '.', '2', '0', '9', '6', '7', '5', '4', '6', '.', '2', '0', '9', '6', '7', '5', '4', '6', '.', '2', '0', '9', '6', '7', '5', '4', '6', '.', '2', '0', '9', '6', '7', '5', '4', '6', '.', '2', '3', '3', '9', '1', '0', '4', '6', '.', '2', '3', '3', '9', '1', '0', '4', '6', '.', '2', '3', '3', '9', '1', '0', '4', '6', '.', '2', '3', '3', '9', '1', '0', '4', '6', '.', '2', '3', '3', '9', '1', '0', '4', '6', '.', '2', '3', '3', '9', '1', '0', '4', '6', '.', '2', '3', '3', '9', '1', '0', '4', '6', '.', '2', '3', '3', '9', '1', '0', '4', '6', '.', '2', '3', '3', '9', '1', '0', '4', '6', '.', '2', '3', '3', '9', '1', '0', '4', '6', '.', '2', '3', '3', '9', '1', '0', '4', '6', '.', '2', '3', '3', '9', '1', '0', '4', '6', '.', '2', '3', '3', '9', '1', '0', '4', '6', '.', '2', '3', '3', '9', '1', '0', '4', '6', '.', '2', '3', '3', '9', '1', '0', '4', '6', '.', '2', '3', '3', '9', '1', '0', '4', '6', '.', '2', '3', '3', '9', '1', '0', '4', '6', '.', '2', '3', '3', '9', '1', '0', '4', '6', '.', '2', '3', '3', '9', '1', '0', '4', '6', '.', '2', '3', '3', '9', '1', '0', '4', '6', '.', '2', '3', '3', '9', '1', '0', '4', '6', '.', '2', '3', '3', '9', '1', '0', '4', '6', '.', '2', '3', '3', '9', '1', '0', '4', '6', '.', '2', '3', '3', '9', '1', '0', '4', '6', '.', '2', '3', '3', '9', '1', '0', '4', '6', '.', '2', '3', '3', '9', '1', '0', '4', '6', '.', '2', '3', '3', '9', '1', '0', '4', '6', '.', '2', '3', '3', '9', '1', '0', '4', '6', '.', '2', '3', '3', '9', '1', '0', '4', '6', '.', '2', '3', '3', '9', '1', '0', '4', '6', '.', '2', '3', '3', '9', '1', '0', '4', '6', '.', '2', '3', '3', '9', '1', '0', '4', '6', '.', '2', '3', '3', '9', '1', '0', '4', '6', '.', '2', '3', '3', '9', '1', '0', '4', '6', '.', '2', '3', '3', '9', '1', '0', '4', '6', '.', '2', '3', '3', '9', '1', '0', '4', '6', '.', '2', '3', '3', '9', '1', '0', '4', '6', '.', '2', '3', '3', '9', '1', '0', '4', '6', '.', '2', '3', '3', '9', '1', '0', '4', '6', '.', '2', '3', '3', '9', '1', '0', '4', '6', '.', '2', '3', '3', '9', '1', '0', '4', '6', '.', '2', '3', '3', '9', '1', '0', '4', '6', '.', '2', '3', '3', '9', '1', '0', '4', '6', '.', '2', '3', '3', '9', '1', '0', '4', '6', '.', '2', '3', '3', '9', '1', '0', '4', '6', '.', '2', '3', '3', '9', '1', '0', '3', '9', '.', '1', '0', '5', '0', '6', '4', '3', '9', '.', '1', '0', '5', '0', '6', '4', '3', '9', '.', '1', '0', '5', '0', '6', '4', '3', '9', '.', '1', '0', '5', '0', '6', '4', '3', '9', '.', '1', '0', '5', '0', '6', '4', '3', '9', '.', '1', '0', '5', '0', '6', '4', '3', '9', '.', '1', '0', '5', '0', '6', '4', '3', '9', '.', '1', '0', '5', '0', '6', '4', '3', '9', '.', '1', '0', '5', '0', '6', '4', '3', '9', '.', '1', '0', '5', '0', '6', '4', '3', '9', '.', '1', '0', '5', '0', '6', '4', '3', '9', '.', '1', '0', '5', '0', '6', '4', '3', '9', '.', '1', '0', '5', '0', '6', '4', '3', '9', '.', '1', '0', '5', '0', '6', '4', '3', '9', '.', '1', '0', '5', '0', '6', '4', '3', '9', '.', '1', '0', '5', '0', '6', '4', '3', '9', '.', '1', '0', '5', '0', '6', '1', '3', '9', '.', '1', '0', '5', '0', '6', '1', '3', '9', '.', '1', '0', '5', '0', '6', '1', '3', '9', '.', '1', '0', '5', '0', '6', '1', '3', '9', '.', '1', '0', '5', '0', '6', '1', '3', '9', '.', '1', '0', '5', '0', '6', '1', '3', '9', '.', '1', '0', '5', '0', '6', '1', '3', '9', '.', '1', '0', '5', '0', '6', '1', '3', '9', '.', '1', '0', '5', '0', '6', '1', '3', '9', '.', '1', '0', '5', '0', '6', '1', '3', '9', '.', '1', '0', '5', '0', '6', '1', '3', '9', '.', '1', '0', '5', '0', '6', '1', '3', '9', '.', '1', '0', '5', '0', '6', '1', '3', '9', '.', '1', '0', '5', '0', '6', '1', '3', '9', '.', '1', '0', '5', '0', '6', '1', '3', '9', '.', '1', '0', '5', '0', '6', '1', '3', '9', '.', '1', '0', '5', '0', '6', '1', '3', '9', '.', '1', '0', '5', '0', '6', '1', '3', '9', '.', '1', '0', '0', '7', '7', '4', '3', '9', '.', '1', '0', '0', '7', '7', '4', '3', '9', '.', '1', '0', '0', '7', '7', '4', '3', '9', '.', '1', '0', '0', '7', '7', '4', '3', '9', '.', '1', '0', '0', '7', '7', '4', '3', '9', '.', '1', '0', '0', '7', '7', '4', '3', '9', '.', '1', '0', '0', '7', '7', '4', '3', '9', '.', '1', '0', '0', '7', '7', '4', '3', '9', '.', '1', '0', '0', '7', '7', '4', '3', '9', '.', '1', '0', '0', '7', '7', '4', '3', '9', '.', '1', '0', '0', '7', '7', '4', '3', '9', '.', '1', '0', '0', '7', '7', '4', '3', '9', '.', '1', '0', '0', '7', '7', '4', '3', '9', '.', '1', '0', '0', '7', '7', '4', '3', '9', '.', '1', '0', '0', '7', '7', '4', '3', '9', '.', '1', '0', '0', '7', '7', '4', '3', '9', '.', '1', '0', '0', '7', '7', '4', '3', '9', '.', '1', '0', '0', '7', '7', '4', '3', '9', '.', '1', '0', '0', '7', '7', '4', '3', '9', '.', '1', '0', '0', '7', '7', '4', '3', '9', '.', '1', '0', '0', '7', '7', '4', '3', '9', '.', '1', '0', '0', '7', '7', '4', '3', '9', '.', '1', '0', '0', '7', '7', '4', '3', '9', '.', '1', '0', '0', '7', '7', '4', '3', '9', '.', '1', '0', '0', '7', '7', '4', '3', '9', '.', '1', '0', '0', '7', '7', '4', '3', '9', '.', '1', '0', '0', '7', '7', '4', '3', '9', '.', '1', '0', '0', '7', '7', '4', '3', '9', '.', '1', '0', '0', '7', '7', '4', '3', '9', '.', '1', '0', '0', '7', '7', '4', '3', '9', '.', '1', '0', '0', '7', '7', '4', '3', '9', '.', '1', '0', '0', '7', '7', '4', '3', '9', '.', '1', '0', '0', '7', '7', '4', '3', '9', '.', '1', '0', '0', '7', '7', '4', '3', '9', '.', '1', '0', '0', '7', '7', '4', '3', '9', '.', '1', '0', '0', '7', '7', '4', '3', '9', '.', '1', '0', '0', '7', '7', '4', '3', '9', '.', '1', '0', '0', '7', '7', '4', '3', '9', '.', '1', '0', '0', '7', '7', '4', '3', '9', '.', '1', '0', '0', '7', '7', '4', '3', '9', '.', '1', '0', '0', '7', '7', '4', '3', '9', '.', '1', '0', '0', '7', '7', '4', '3', '9', '.', '1', '0', '0', '7', '7', '4', '3', '9', '.', '1', '0', '0', '7', '7', '4', '3', '9', '.', '1', '0', '0', '7', '7', '4', '3', '9', '.', '1', '0', '0', '7', '7', '4', '3', '9', '.', '1', '0', '0', '7', '7', '4', '3', '9', '.', '1', '0', '0', '7', '7', '4', '3', '5', '.', '9', '6', '4', '1', '2', '8', '3', '5', '.', '9', '6', '4', '1', '2', '8', '3', '5', '.', '9', '6', '4', '1', '2', '8', '3', '5', '.', '9', '6', '4', '1', '2', '8', '3', '5', '.', '9', '6', '4', '1', '2', '8', '3', '5', '.', '9', '6', '4', '1', '2', '8', '3', '5', '.', '9', '6', '4', '1', '2', '8', '3', '5', '.', '9', '6', '4', '1', '2', '8', '3', '5', '.', '9', '6', '4', '1', '2', '8', '3', '5', '.', '9', '6', '4', '1', '2', '8', '3', '5', '.', '9', '6', '4', '1', '2', '8', '3', '5', '.', '9', '6', '4', '1', '2', '8', '3', '5', '.', '9', '6', '4', '1', '2', '8', '3', '5', '.', '9', '6', '4', '1', '2', '8', '3', '5', '.', '9', '6', '4', '1', '2', '8', '3', '5', '.', '9', '6', '4', '1', '2', '8', '3', '5', '.', '9', '6', '4', '1', '2', '8', '3', '5', '.', '9', '6', '4', '1', '2', '8', '3', '5', '.', '9', '6', '4', '1', '2', '8', '3', '5', '.', '9', '6', '4', '1', '2', '8', '3', '5', '.', '9', '6', '4', '1', '2', '8', '3', '5', '.', '9', '6', '4', '1', '2', '8', '3', '5', '.', '9', '6', '4', '1', '2', '8', '3', '5', '.', '9', '6', '4', '1', '2', '8', '3', '5', '.', '9', '6', '4', '1', '2', '8', '3', '5', '.', '9', '6', '4', '1', '2', '8', '3', '5', '.', '9', '6', '4', '1', '2', '8', '3', '5', '.', '9', '6', '4', '1', '2', '8', '3', '5', '.', '9', '6', '4', '1', '2', '8', '3', '5', '.', '9', '6', '4', '1', '2', '8', '3', '5', '.', '9', '6', '4', '1', '2', '8', '3', '5', '.', '9', '6', '4', '1', '2', '8', '3', '5', '.', '9', '6', '4', '1', '2', '8', '3', '5', '.', '9', '6', '4', '1', '2', '8', '3', '5', '.', '9', '6', '4', '1', '2', '8', '3', '5', '.', '9', '6', '4', '1', '2', '8', '3', '5', '.', '9', '6', '4', '1', '2', '8', '3', '5', '.', '9', '6', '4', '1', '2', '8', '3', '5', '.', '9', '6', '4', '1', '2', '8', '3', '5', '.', '9', '6', '4', '1', '2', '8', '3', '5', '.', '9', '6', '4', '1', '2', '8', '3', '5', '.', '9', '6', '4', '1', '2', '8', '3', '5', '.', '9', '6', '4', '1', '2', '8', '3', '5', '.', '9', '6', '4', '1', '2', '8', '3', '5', '.', '9', '6', '4', '1', '2', '8', '3', '5', '.', '9', '6', '4', '1', '2', '8', '3', '5', '.', '9', '6', '4', '1', '2', '8', '3', '5', '.', '9', '6', '4', '1', '2', '8', '3', '5', '.', '9', '5', '7', '3', '7', '8', '3', '5', '.', '9', '5', '9', '4', '6', '9', '3', '5', '.', '9', '5', '9', '4', '6', '9', '3', '5', '.', '9', '5', '9', '4', '6', '9', '3', '5', '.', '9', '5', '9', '4', '6', '9', '3', '5', '.', '9', '5', '9', '4', '6', '9', '3', '5', '.', '9', '5', '9', '4', '6', '9', '3', '5', '.', '9', '5', '9', '4', '6', '9', '3', '5', '.', '9', '5', '9', '4', '6', '9', '3', '5', '.', '9', '5', '9', '4', '6', '9', '3', '5', '.', '9', '5', '9', '4', '6', '9', '3', '5', '.', '9', '5', '9', '4', '6', '9', '3', '5', '.', '9', '5', '9', '4', '6', '9', '3', '5', '.', '9', '5', '9', '4', '6', '9', '3', '5', '.', '9', '5', '9', '4', '6', '9', '3', '5', '.', '9', '5', '9', '4', '6', '9', '3', '5', '.', '9', '5', '9', '4', '6', '9', '3', '5', '.', '9', '5', '9', '4', '6', '9', '3', '5', '.', '9', '5', '9', '4', '6', '9', '3', '5', '.', '9', '5', '7', '3', '7', '8', '3', '5', '.', '9', '5', '7', '3', '7', '8', '3', '5', '.', '9', '5', '7', '3', '7', '8', '3', '5', '.', '9', '5', '7', '3', '7', '8', '3', '5', '.', '9', '5', '7', '3', '7', '8', '3', '5', '.', '9', '5', '7', '3', '7', '8', '3', '5', '.', '9', '5', '7', '3', '7', '8', '3', '5', '.', '9', '5', '7', '3', '7', '8', '3', '5', '.', '9', '5', '7', '3', '7', '8', '3', '5', '.', '9', '5', '7', '3', '7', '8', '3', '5', '.', '9', '5', '7', '3', '7', '8', '3', '5', '.', '9', '5', '7', '3', '7', '8', '3', '5', '.', '9', '5', '7', '3', '7', '8', '3', '5', '.', '9', '5', '7', '3', '7', '8', '3', '5', '.', '9', '5', '7', '3', '7', '8', '3', '5', '.', '9', '5', '7', '3', '7', '8', '3', '5', '.', '9', '5', '7', '3', '7', '8', '3', '5', '.', '9', '5', '7', '3', '7', '8', '4', '7', '.', '1', '2', '9', '8', '3', '9', '4', '7', '.', '1', '2', '9', '8', '3', '9', '4', '7', '.', '1', '2', '9', '8', '3', '9', '4', '7', '.', '1', '2', '9', '8', '3', '9', '4', '7', '.', '1', '2', '9', '8', '3', '9', '4', '7', '.', '1', '2', '9', '8', '3', '9', '4', '7', '.', '1', '2', '9', '8', '3', '9', '4', '7', '.', '1', '2', '9', '8', '3', '9', '4', '7', '.', '1', '2', '9', '8', '3', '9', '4', '7', '.', '1', '2', '9', '8', '3', '9', '4', '7', '.', '1', '2', '9', '8', '3', '9', '4', '7', '.', '1', '2', '9', '8', '3', '9', '4', '7', '.', '1', '2', '9', '8', '3', '9', '4', '7', '.', '1', '2', '9', '8', '3', '9', '4', '7', '.', '1', '2', '9', '8', '3', '9', '4', '7', '.', '1', '2', '9', '8', '3', '9', '4', '7', '.', '1', '2', '9', '8', '3', '9', '4', '7', '.', '1', '2', '9', '8', '3', '9', '4', '7', '.', '1', '2', '9', '8', '3', '9', '4', '7', '.', '1', '2', '9', '8', '3', '9', '4', '7', '.', '1', '2', '9', '8', '3', '9', '4', '7', '.', '1', '2', '8', '2', '0', '0', '4', '7', '.', '1', '2', '8', '2', '0', '0', '4', '7', '.', '1', '2', '8', '2', '0', '0', '4', '7', '.', '1', '2', '8', '2', '0', '0', '4', '7', '.', '1', '2', '8', '2', '0', '0', '4', '7', '.', '1', '2', '8', '2', '0', '0', '4', '7', '.', '1', '2', '8', '2', '0', '0', '4', '7', '.', '1', '2', '8', '2', '0', '0', '4', '7', '.', '1', '2', '8', '2', '0', '0', '4', '7', '.', '1', '2', '8', '2', '0', '0', '4', '7', '.', '1', '2', '8', '2', '0', '0', '4', '7', '.', '1', '2', '8', '2', '0', '0', '4', '7', '.', '1', '2', '8', '2', '0', '0', '4', '7', '.', '1', '2', '8', '2', '0', '0', '4', '7', '.', '1', '2', '8', '2', '0', '0', '4', '7', '.', '1', '2', '8', '2', '0', '0', '4', '7', '.', '1', '2', '8', '2', '0', '0', '4', '7', '.', '1', '2', '8', '2', '0', '0', '4', '7', '.', '1', '2', '8', '2', '0', '0', '4', '7', '.', '1', '2', '8', '2', '0', '0', '4', '7', '.', '1', '2', '8', '2', '0', '0', '4', '7', '.', '1', '2', '8', '2', '0', '0', '4', '7', '.', '1', '2', '8', '2', '0', '0', '4', '7', '.', '1', '2', '8', '2', '0', '0', '4', '7', '.', '1', '2', '8', '2', '0', '0', '4', '7', '.', '1', '2', '8', '2', '0', '0', '4', '7', '.', '1', '2', '8', '2', '0', '0', '4', '7', '.', '1', '2', '8', '2', '0', '0', '4', '7', '.', '1', '2', '8', '2', '0', '0', '4', '7', '.', '1', '2', '8', '2', '0', '0', '4', '7', '.', '1', '2', '8', '2', '0', '0', '4', '7', '.', '1', '2', '8', '2', '0', '0', '4', '7', '.', '1', '2', '8', '2', '0', '0', '4', '7', '.', '1', '2', '8', '2', '0', '0', '4', '7', '.', '1', '2', '8', '2', '0', '0', '4', '7', '.', '1', '2', '8', '2', '0', '0', '4', '7', '.', '1', '2', '8', '2', '0', '0', '4', '7', '.', '1', '2', '8', '2', '0', '0', '4', '7', '.', '1', '2', '8', '2', '0', '0', '4', '7', '.', '1', '2', '8', '2', '0', '0', '4', '7', '.', '1', '2', '8', '2', '0', '0', '4', '7', '.', '1', '2', '8', '2', '0', '0', '4', '7', '.', '1', '2', '8', '2', '0', '0', '4', '7', '.', '1', '2', '8', '2', '0', '0', '4', '7', '.', '1', '2', '8', '2', '0', '0', '4', '7', '.', '1', '2', '8', '2', '0', '0', '3', '9', '.', '7', '5', '8', '2', '4', '6', '3', '9', '.', '7', '5', '8', '2', '4', '6', '3', '9', '.', '7', '5', '8', '2', '4', '6', '3', '9', '.', '7', '5', '8', '2', '4', '6', '3', '9', '.', '7', '5', '8', '2', '4', '6', '3', '9', '.', '7', '5', '8', '2', '4', '6', '3', '9', '.', '7', '5', '8', '2', '4', '6', '3', '9', '.', '7', '5', '8', '2', '4', '6', '3', '9', '.', '7', '5', '8', '2', '4', '6', '3', '9', '.', '7', '5', '8', '2', '4', '6', '3', '9', '.', '7', '5', '8', '2', '4', '6', '3', '9', '.', '7', '5', '8', '2', '4', '6', '3', '9', '.', '7', '5', '8', '2', '4', '6', '3', '9', '.', '7', '5', '8', '2', '4', '6', '3', '9', '.', '7', '5', '8', '2', '4', '6', '3', '9', '.', '7', '5', '8', '2', '4', '6', '3', '9', '.', '7', '5', '8', '2', '4', '6', '3', '9', '.', '7', '5', '8', '2', '4', '6', '3', '9', '.', '7', '5', '8', '2', '4', '6', '3', '9', '.', '7', '5', '8', '2', '0', '6', '3', '9', '.', '7', '5', '8', '2', '4', '6', '3', '9', '.', '7', '5', '8', '2', '4', '6', '3', '9', '.', '7', '5', '8', '2', '0', '6', '3', '9', '.', '7', '5', '8', '2', '0', '6', '3', '9', '.', '7', '5', '8', '2', '0', '6', '3', '9', '.', '7', '5', '8', '2', '0', '6', '3', '9', '.', '7', '5', '8', '2', '0', '6', '3', '9', '.', '7', '5', '8', '2', '0', '6', '3', '9', '.', '7', '5', '8', '2', '0', '6', '3', '9', '.', '7', '5', '8', '2', '0', '6', '3', '9', '.', '7', '5', '8', '2', '0', '6', '3', '9', '.', '7', '5', '8', '2', '0', '6', '3', '9', '.', '7', '5', '8', '2', '0', '6', '3', '9', '.', '7', '5', '8', '2', '0', '6', '3', '9', '.', '7', '5', '8', '2', '0', '6', '3', '9', '.', '7', '5', '8', '2', '0', '6', '3', '9', '.', '7', '5', '8', '2', '0', '6', '3', '9', '.', '7', '5', '8', '2', '0', '6', '3', '9', '.', '7', '5', '8', '2', '0', '6', '3', '9', '.', '7', '5', '8', '2', '0', '6', '4', '4', '.', '9', '5', '0', '1', '1', '0', '4', '4', '.', '9', '5', '0', '1', '1', '0', '4', '4', '.', '9', '5', '0', '1', '1', '0', '4', '4', '.', '9', '5', '0', '1', '1', '0', '4', '4', '.', '9', '5', '0', '1', '1', '0', '4', '4', '.', '9', '5', '0', '1', '1', '0', '4', '4', '.', '9', '5', '0', '1', '1', '0', '4', '4', '.', '9', '5', '0', '1', '1', '0', '4', '4', '.', '9', '5', '0', '1', '1', '0', '4', '4', '.', '9', '5', '0', '1', '1', '0', '4', '4', '.', '9', '5', '3', '4', '8', '0', '4', '4', '.', '9', '5', '3', '4', '8', '0', '4', '4', '.', '9', '5', '3', '4', '8', '0', '4', '4', '.', '9', '5', '3', '4', '8', '0', '4', '4', '.', '9', '5', '3', '4', '8', '0', '4', '4', '.', '9', '5', '3', '4', '8', '0', '4', '4', '.', '9', '5', '3', '4', '8', '0', '4', '4', '.', '9', '5', '3', '4', '8', '0', '4', '4', '.', '9', '5', '3', '4', '8', '0', '4', '4', '.', '9', '5', '3', '4', '8', '0', '4', '0', '.', '0', '3', '4', '9', '6', '0', '4', '0', '.', '0', '3', '4', '9', '6', '0', '4', '0', '.', '0', '3', '4', '9', '6', '0', '4', '0', '.', '0', '3', '4', '9', '6', '0', '4', '0', '.', '0', '3', '4', '9', '6', '0', '4', '0', '.', '0', '3', '4', '9', '6', '0', '4', '0', '.', '0', '3', '4', '9', '6', '0', '4', '0', '.', '0', '3', '4', '9', '6', '0', '4', '0', '.', '0', '3', '4', '9', '6', '0', '4', '0', '.', '0', '3', '4', '9', '6', '0', '4', '0', '.', '0', '3', '4', '9', '6', '0', '4', '0', '.', '0', '3', '4', '9', '6', '0', '4', '0', '.', '0', '3', '4', '9', '6', '2', '4', '0', '.', '0', '3', '4', '9', '6', '2', '4', '0', '.', '0', '3', '4', '9', '6', '2', '4', '0', '.', '0', '3', '4', '9', '6', '2', '4', '0', '.', '0', '3', '4', '9', '6', '2', '4', '0', '.', '0', '3', '4', '9', '6', '2', '4', '0', '.', '0', '3', '4', '9', '6', '2', '4', '0', '.', '0', '3', '4', '9', '6', '2', '4', '0', '.', '0', '3', '4', '9', '6', '2', '4', '0', '.', '0', '3', '4', '9', '6', '2', '4', '0', '.', '0', '3', '4', '9', '6', '2', '4', '0', '.', '0', '3', '4', '9', '6', '2', '4', '0', '.', '0', '3', '4', '9', '6', '2', '4', '0', '.', '0', '3', '4', '9', '6', '2', '4', '0', '.', '0', '3', '4', '9', '6', '2', '4', '0', '.', '0', '3', '4', '9', '6', '2', '4', '0', '.', '0', '3', '4', '9', '6', '2', '4', '0', '.', '0', '3', '4', '9', '6', '2', '3', '2', '.', '5', '9', '0', '6', '9', '4', '3', '2', '.', '5', '9', '0', '6', '9', '4', '3', '2', '.', '5', '9', '0', '6', '9', '4', '3', '2', '.', '5', '9', '0', '6', '9', '4', '3', '2', '.', '5', '9', '0', '6', '9', '4', '3', '2', '.', '5', '9', '0', '6', '9', '4', '3', '2', '.', '5', '9', '0', '6', '9', '4', '3', '2', '.', '5', '9', '0', '6', '9', '4', '3', '2', '.', '5', '9', '0', '6', '9', '4', '3', '2', '.', '5', '9', '0', '6', '9', '4', '3', '2', '.', '5', '9', '0', '6', '9', '4', '3', '2', '.', '5', '9', '0', '6', '9', '4', '3', '2', '.', '5', '9', '0', '6', '9', '4', '3', '2', '.', '5', '9', '0', '6', '9', '4', '3', '2', '.', '5', '9', '0', '6', '9', '4', '3', '2', '.', '5', '9', '0', '6', '9', '4', '3', '2', '.', '5', '9', '0', '6', '9', '4', '3', '2', '.', '5', '9', '0', '6', '9', '4', '3', '2', '.', '5', '9', '0', '6', '9', '4', '3', '2', '.', '5', '9', '0', '6', '9', '4', '3', '2', '.', '5', '9', '0', '6', '9', '4', '3', '2', '.', '5', '9', '0', '6', '9', '4', '3', '2', '.', '5', '9', '0', '6', '9', '4', '3', '2', '.', '5', '9', '0', '6', '9', '4', '3', '2', '.', '5', '9', '0', '6', '9', '4', '3', '2', '.', '5', '9', '0', '6', '9', '4', '3', '2', '.', '5', '9', '0', '6', '9', '4', '3', '2', '.', '5', '9', '0', '6', '9', '4', '3', '2', '.', '5', '9', '0', '6', '9', '4', '3', '2', '.', '5', '9', '0', '6', '9', '4', '3', '2', '.', '5', '9', '0', '6', '9', '4', '3', '2', '.', '5', '9', '0', '6', '9', '4', '3', '2', '.', '5', '9', '0', '6', '9', '4', '3', '2', '.', '5', '9', '0', '6', '9', '4', '3', '2', '.', '5', '9', '0', '6', '9', '4', '3', '2', '.', '5', '9', '0', '6', '9', '4', '3', '2', '.', '5', '9', '0', '6', '9', '4', '3', '2', '.', '5', '9', '0', '6', '9', '4', '3', '2', '.', '5', '9', '0', '6', '9', '4', '3', '2', '.', '5', '9', '0', '6', '9', '4', '3', '2', '.', '5', '9', '0', '6', '9', '4', '3', '2', '.', '5', '9', '0', '6', '9', '4', '3', '2', '.', '5', '9', '0', '6', '9', '4', '3', '2', '.', '5', '9', '0', '6', '9', '4', '3', '2', '.', '5', '9', '0', '6', '9', '4', '3', '2', '.', '5', '9', '0', '6', '9', '4', '3', '2', '.', '5', '9', '0', '6', '9', '4', '3', '1', '.', '9', '1', '0', '6', '8', '0', '3', '1', '.', '9', '1', '0', '6', '8', '0', '3', '1', '.', '9', '1', '0', '6', '8', '0', '3', '1', '.', '9', '1', '0', '6', '8', '0', '3', '1', '.', '9', '1', '0', '6', '8', '0', '3', '1', '.', '9', '1', '0', '6', '8', '0', '3', '1', '.', '9', '1', '0', '6', '8', '0', '3', '1', '.', '9', '1', '0', '6', '8', '0', '3', '1', '.', '9', '1', '0', '6', '8', '0', '3', '1', '.', '9', '1', '0', '6', '8', '0', '3', '1', '.', '9', '1', '0', '6', '8', '0', '3', '1', '.', '9', '1', '0', '6', '8', '0', '3', '1', '.', '9', '1', '0', '6', '8', '0', '3', '1', '.', '9', '1', '0', '6', '8', '0', '3', '1', '.', '9', '1', '0', '6', '8', '0', '3', '1', '.', '9', '1', '0', '6', '8', '0', '3', '1', '.', '9', '1', '0', '6', '8', '0', '3', '1', '.', '9', '1', '0', '6', '8', '0', '3', '1', '.', '9', '1', '0', '6', '8', '0', '3', '1', '.', '9', '1', '0', '6', '8', '0', '3', '1', '.', '9', '1', '0', '6', '8', '0', '3', '1', '.', '9', '1', '0', '6', '8', '0', '3', '1', '.', '9', '1', '0', '6', '8', '0', '3', '1', '.', '9', '1', '0', '6', '8', '0', '3', '1', '.', '9', '1', '0', '6', '8', '0', '3', '1', '.', '9', '1', '0', '6', '8', '0', '3', '1', '.', '9', '1', '0', '6', '8', '0', '3', '1', '.', '9', '1', '0', '6', '8', '0', '3', '1', '.', '9', '1', '0', '6', '8', '0', '3', '3', '.', '7', '5', '0', '9', '9', '3', '3', '3', '.', '7', '5', '0', '9', '9', '3', '3', '3', '.', '7', '5', '0', '9', '9', '3', '3', '3', '.', '7', '5', '0', '9', '9', '3', '3', '3', '.', '7', '5', '0', '9', '9', '3', '3', '3', '.', '7', '5', '0', '9', '9', '3', '3', '3', '.', '7', '5', '0', '9', '9', '3', '3', '3', '.', '7', '5', '0', '9', '9', '3', '3', '3', '.', '7', '5', '0', '9', '9', '3', '3', '3', '.', '7', '5', '0', '9', '9', '3', '3', '3', '.', '7', '5', '0', '9', '9', '3', '3', '3', '.', '7', '5', '0', '9', '9', '3', '3', '3', '.', '7', '5', '0', '9', '9', '3', '3', '3', '.', '7', '5', '0', '9', '9', '3', '3', '3', '.', '7', '5', '0', '9', '9', '3', '3', '3', '.', '7', '5', '0', '9', '9', '3', '3', '3', '.', '7', '5', '0', '9', '9', '3', '3', '3', '.', '7', '5', '0', '9', '9', '3', '3', '3', '.', '7', '5', '0', '9', '9', '3', '3', '3', '.', '7', '5', '0', '9', '9', '3', '3', '3', '.', '7', '5', '0', '9', '9', '3', '4', '0', '.', '1', '7', '7', '5', '9', '9', '4', '0', '.', '1', '7', '7', '5', '9', '9', '4', '0', '.', '1', '7', '7', '5', '9', '9', '4', '0', '.', '1', '7', '7', '5', '9', '9', '4', '0', '.', '1', '7', '7', '5', '9', '9', '4', '0', '.', '1', '7', '7', '5', '9', '9', '4', '0', '.', '1', '7', '7', '5', '9', '9', '4', '0', '.', '1', '7', '7', '5', '9', '9', '4', '0', '.', '1', '7', '7', '5', '9', '9', '4', '0', '.', '1', '7', '7', '5', '9', '9', '4', '0', '.', '1', '7', '7', '5', '9', '9', '4', '0', '.', '1', '7', '7', '5', '9', '9', '4', '0', '.', '1', '7', '7', '5', '9', '9', '4', '0', '.', '1', '7', '7', '5', '9', '9', '4', '0', '.', '1', '7', '7', '5', '9', '9', '4', '0', '.', '1', '7', '7', '5', '9', '9', '4', '0', '.', '1', '7', '7', '5', '9', '9', '4', '0', '.', '1', '7', '7', '5', '9', '9', '4', '0', '.', '1', '7', '7', '5', '9', '9', '4', '0', '.', '1', '7', '7', '5', '9', '9', '4', '0', '.', '1', '7', '7', '5', '9', '9', '4', '0', '.', '1', '7', '7', '5', '9', '9', '4', '0', '.', '1', '7', '7', '5', '9', '9', '4', '0', '.', '1', '7', '7', '5', '9', '9', '4', '0', '.', '1', '7', '7', '5', '9', '9', '4', '0', '.', '1', '7', '7', '5', '9', '9', '4', '0', '.', '1', '7', '7', '5', '9', '9', '4', '0', '.', '1', '7', '7', '5', '9', '9', '4', '0', '.', '1', '7', '7', '5', '9', '9', '4', '0', '.', '1', '7', '7', '5', '9', '9', '4', '0', '.', '1', '7', '7', '5', '9', '9', '4', '0', '.', '1', '7', '7', '5', '9', '9', '4', '0', '.', '1', '7', '7', '5', '9', '9', '4', '0', '.', '1', '7', '7', '5', '9', '9', '4', '0', '.', '1', '7', '7', '5', '9', '9', '4', '0', '.', '1', '7', '7', '5', '9', '9', '4', '0', '.', '1', '7', '7', '5', '9', '9', '4', '0', '.', '1', '7', '7', '5', '9', '9', '4', '0', '.', '1', '7', '7', '5', '9', '9', '4', '0', '.', '1', '7', '7', '5', '9', '9', '4', '0', '.', '1', '7', '7', '5', '9', '9', '4', '0', '.', '1', '7', '7', '5', '9', '9', '4', '0', '.', '1', '7', '7', '5', '9', '9', '4', '0', '.', '1', '7', '7', '5', '9', '9', '4', '0', '.', '1', '7', '7', '5', '9', '9', '4', '0', '.', '1', '7', '7', '5', '9', '9', '4', '0', '.', '7', '8', '3', '9', '3', '4', '4', '0', '.', '7', '8', '3', '9', '3', '4', '4', '0', '.', '7', '8', '3', '9', '3', '4', '4', '0', '.', '7', '8', '3', '9', '3', '4', '4', '0', '.', '7', '8', '3', '9', '3', '4', '4', '0', '.', '7', '8', '3', '9', '3', '4', '4', '0', '.', '7', '8', '3', '9', '3', '4', '4', '0', '.', '7', '8', '3', '9', '3', '4', '4', '0', '.', '7', '8', '3', '9', '3', '4', '4', '0', '.', '7', '8', '3', '9', '3', '4', '4', '0', '.', '7', '8', '3', '9', '3', '4', '4', '0', '.', '7', '8', '3', '9', '3', '4', '4', '0', '.', '7', '8', '3', '9', '3', '4', '4', '0', '.', '7', '8', '3', '9', '3', '4', '4', '5', '.', '7', '9', '0', '8', '3', '5', '4', '5', '.', '7', '9', '0', '8', '3', '5', '4', '5', '.', '7', '9', '0', '8', '3', '5', '4', '5', '.', '7', '9', '0', '8', '3', '5', '4', '5', '.', '7', '9', '0', '8', '3', '5', '4', '5', '.', '7', '9', '0', '8', '3', '5', '4', '5', '.', '7', '9', '0', '8', '3', '5', '4', '5', '.', '7', '9', '0', '8', '3', '5', '4', '5', '.', '7', '9', '0', '8', '3', '5', '4', '5', '.', '7', '9', '0', '8', '3', '5', '4', '5', '.', '7', '9', '0', '8', '3', '5', '4', '5', '.', '7', '9', '0', '8', '3', '5', '4', '5', '.', '7', '9', '0', '8', '3', '5', '4', '5', '.', '7', '9', '0', '8', '3', '5', '4', '5', '.', '7', '9', '0', '8', '3', '5', '4', '5', '.', '7', '9', '0', '8', '3', '5', '4', '5', '.', '7', '9', '0', '8', '3', '5', '4', '5', '.', '7', '9', '0', '8', '3', '5', '4', '5', '.', '8', '2', '0', '4', '9', '0', '4', '5', '.', '8', '2', '0', '4', '9', '0', '4', '5', '.', '8', '2', '0', '4', '9', '0', '4', '5', '.', '8', '2', '0', '4', '9', '0', '4', '5', '.', '8', '2', '0', '4', '9', '0', '4', '5', '.', '8', '2', '0', '4', '9', '0', '4', '5', '.', '8', '2', '0', '4', '9', '0', '4', '5', '.', '8', '2', '0', '4', '9', '0', '4', '5', '.', '8', '2', '0', '4', '9', '0', '4', '5', '.', '8', '2', '0', '4', '9', '0', '4', '5', '.', '8', '2', '0', '4', '9', '0', '4', '5', '.', '8', '2', '0', '4', '9', '0', '4', '5', '.', '8', '2', '0', '4', '9', '0', '4', '5', '.', '8', '2', '0', '4', '9', '0', '4', '5', '.', '8', '2', '0', '4', '9', '0', '3', '7', '.', '1', '0', '8', '7', '8', '0', '3', '7', '.', '1', '0', '8', '7', '8', '0', '3', '7', '.', '1', '0', '8', '7', '8', '0', '3', '7', '.', '1', '0', '8', '7', '8', '0', '3', '7', '.', '1', '0', '8', '7', '8', '0', '3', '7', '.', '1', '0', '8', '7', '8', '0', '3', '7', '.', '1', '0', '8', '7', '8', '0', '3', '7', '.', '1', '0', '8', '7', '8', '0', '3', '7', '.', '1', '0', '8', '7', '8', '0', '3', '7', '.', '1', '0', '8', '7', '8', '0', '6', '8', '.', '6', '6', '1', '0', '9', '0', '6', '8', '.', '6', '6', '1', '0', '9', '0', '6', '8', '.', '6', '6', '1', '0', '9', '0', '6', '8', '.', '6', '6', '1', '0', '9', '0', '6', '8', '.', '6', '6', '1', '0', '9', '0', '6', '8', '.', '6', '6', '1', '0', '9', '0', '6', '8', '.', '6', '6', '1', '0', '9', '0', '6', '8', '.', '6', '6', '1', '0', '9', '0', '6', '8', '.', '6', '6', '1', '0', '9', '0', '6', '8', '.', '6', '6', '1', '0', '9', '0', '6', '8', '.', '6', '6', '1', '0', '9', '0', '6', '8', '.', '6', '6', '1', '0', '9', '0', '6', '8', '.', '6', '6', '1', '0', '9', '0', '6', '8', '.', '6', '6', '1', '0', '9', '0', '6', '8', '.', '6', '6', '1', '0', '9', '0', '6', '8', '.', '6', '6', '1', '0', '9', '0', '6', '8', '.', '6', '6', '1', '0', '9', '0', '6', '8', '.', '6', '6', '1', '0', '9', '0', '6', '8', '.', '6', '6', '1', '0', '9', '0', '6', '8', '.', '6', '6', '1', '0', '9', '0', '6', '8', '.', '6', '6', '1', '0', '9', '0', '6', '8', '.', '6', '6', '1', '0', '9', '0', '6', '8', '.', '6', '6', '1', '0', '9', '0', '6', '8', '.', '6', '6', '1', '0', '9', '0', '6', '8', '.', '6', '6', '1', '0', '9', '0', '6', '8', '.', '6', '6', '1', '0', '9', '0', '6', '8', '.', '6', '6', '1', '0', '9', '0', '6', '8', '.', '6', '6', '1', '0', '9', '0', '6', '8', '.', '6', '6', '1', '0', '9', '0', '6', '5', '.', '1', '5', '4', '0', '1', '0', '6', '5', '.', '1', '5', '4', '0', '1', '0', '6', '5', '.', '1', '5', '4', '0', '1', '0', '6', '5', '.', '1', '5', '4', '0', '1', '0', '6', '5', '.', '1', '5', '4', '0', '1', '0', '6', '5', '.', '1', '5', '4', '0', '1', '0', '6', '5', '.', '1', '5', '4', '0', '1', '0', '6', '5', '.', '1', '5', '4', '0', '1', '0', '6', '5', '.', '1', '5', '4', '0', '1', '0', '6', '5', '.', '1', '5', '4', '0', '1', '0', '6', '5', '.', '1', '5', '4', '0', '1', '0', '6', '5', '.', '1', '5', '4', '0', '1', '0', '6', '5', '.', '1', '5', '4', '0', '1', '0', '6', '5', '.', '1', '5', '4', '0', '1', '0', '6', '5', '.', '1', '5', '4', '0', '1', '0', '6', '5', '.', '1', '5', '4', '0', '1', '0', '6', '5', '.', '1', '5', '4', '0', '1', '0', '6', '5', '.', '1', '5', '4', '0', '1', '0', '6', '5', '.', '1', '5', '4', '0', '1', '0', '6', '5', '.', '1', '5', '4', '0', '1', '0', '6', '5', '.', '1', '5', '4', '0', '1', '0', '6', '3', '.', '8', '7', '5', '7', '9', '8', '6', '3', '.', '8', '7', '5', '7', '9', '8', '6', '3', '.', '8', '7', '5', '7', '9', '8', '6', '3', '.', '8', '7', '5', '7', '9', '8', '6', '3', '.', '8', '7', '5', '7', '9', '8', '6', '3', '.', '8', '7', '5', '7', '9', '8', '6', '3', '.', '8', '7', '5', '7', '9', '8', '6', '3', '.', '8', '7', '5', '7', '9', '8', '6', '3', '.', '8', '7', '5', '7', '9', '8', '6', '3', '.', '8', '7', '5', '7', '9', '8', '6', '3', '.', '8', '7', '5', '7', '9', '8', '6', '3', '.', '8', '7', '5', '7', '9', '8', '6', '3', '.', '8', '7', '5', '7', '9', '8', '6', '3', '.', '8', '7', '5', '7', '9', '8', '6', '3', '.', '8', '7', '5', '7', '9', '8', '6', '3', '.', '8', '7', '5', '7', '9', '8', '6', '3', '.', '8', '7', '5', '7', '9', '8', '6', '3', '.', '8', '7', '5', '7', '9', '8', '6', '3', '.', '8', '7', '5', '7', '9', '8', '6', '3', '.', '8', '7', '5', '7', '9', '8', '6', '3', '.', '8', '7', '5', '7', '9', '8', '6', '3', '.', '8', '7', '5', '7', '9', '8', '6', '3', '.', '8', '7', '5', '7', '9', '8', '6', '3', '.', '8', '7', '5', '7', '9', '8', '6', '3', '.', '8', '7', '5', '7', '9', '8', '6', '3', '.', '8', '7', '5', '7', '9', '8', '6', '3', '.', '8', '7', '5', '7', '9', '8', '6', '3', '.', '8', '7', '5', '7', '9', '8', '6', '3', '.', '8', '7', '5', '7', '9', '8', '6', '3', '.', '8', '7', '5', '7', '9', '8', '6', '3', '.', '8', '7', '5', '7', '9', '8', '6', '3', '.', '8', '7', '5', '7', '9', '8', '6', '3', '.', '8', '7', '5', '7', '9', '8', '6', '3', '.', '8', '7', '5', '7', '9', '8', '6', '3', '.', '8', '7', '5', '7', '9', '8', '6', '3', '.', '8', '7', '5', '7', '9', '8', '6', '3', '.', '8', '7', '5', '7', '9', '8', '6', '3', '.', '8', '7', '5', '7', '9', '8']\n"
     ]
    }
   ],
   "source": [
    "print(latT)"
   ]
  },
  {
   "cell_type": "code",
   "execution_count": null,
   "metadata": {},
   "outputs": [],
   "source": [
    "#next steps need to figure out local timezone\n",
    "#define timezone\n",
    "TTZ = tf.timezone_at(lng=longT, lat=latT) "
   ]
  }
 ],
 "metadata": {
  "kernelspec": {
   "display_name": "Python 3",
   "language": "python",
   "name": "python3"
  },
  "language_info": {
   "codemirror_mode": {
    "name": "ipython",
    "version": 3
   },
   "file_extension": ".py",
   "mimetype": "text/x-python",
   "name": "python",
   "nbconvert_exporter": "python",
   "pygments_lexer": "ipython3",
   "version": "3.7.3"
  }
 },
 "nbformat": 4,
 "nbformat_minor": 2
}
